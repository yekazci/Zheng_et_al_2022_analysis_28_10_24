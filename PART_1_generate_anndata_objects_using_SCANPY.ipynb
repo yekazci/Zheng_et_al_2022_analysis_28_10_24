{
 "cells": [
  {
   "cell_type": "markdown",
   "id": "73658138-c2f1-4cd6-b2af-95117293f9e9",
   "metadata": {},
   "source": [
    "In this notebook, I will generate a combined anndata object from all of the samples\\\n",
    "in the Zheng et al 2022 mouse stroke scRNA-Seq dataset."
   ]
  },
  {
   "cell_type": "code",
   "execution_count": 1,
   "id": "7874802e-0039-4c96-bfdd-26c364068403",
   "metadata": {},
   "outputs": [],
   "source": [
    "import os"
   ]
  },
  {
   "cell_type": "code",
   "execution_count": 2,
   "id": "da2b2c79-85f2-4429-90e4-28fa21e666d1",
   "metadata": {},
   "outputs": [
    {
     "data": {
      "text/plain": [
       "'/fast/AG_Bunina/Yusuf/Project_Endothelial_and_Stroke/Datasets/GENE_EXPRESSION/MOUSE/STROKE/2022_Zheng_K_et_al/28_10_24'"
      ]
     },
     "execution_count": 2,
     "metadata": {},
     "output_type": "execute_result"
    }
   ],
   "source": [
    "os.getcwd()"
   ]
  },
  {
   "cell_type": "code",
   "execution_count": 3,
   "id": "2ac62c63-934a-41a2-865c-5206e8e25a41",
   "metadata": {},
   "outputs": [
    {
     "name": "stdout",
     "output_type": "stream",
     "text": [
      "PART_1.ipynb\n",
      "initial_generation_of_anndata_object_with_some_errors_and_solutions.ipynb\n"
     ]
    }
   ],
   "source": [
    "!ls"
   ]
  },
  {
   "cell_type": "code",
   "execution_count": 4,
   "id": "4053a883-31ae-466d-aa8e-0c3a052f56e1",
   "metadata": {},
   "outputs": [],
   "source": [
    "import scanpy as sc"
   ]
  },
  {
   "cell_type": "code",
   "execution_count": 5,
   "id": "5fd3721a-0be2-4451-aefb-abf29ab3ead8",
   "metadata": {},
   "outputs": [],
   "source": [
    "sc.settings.set_figure_params(dpi=50, facecolor=\"white\")"
   ]
  },
  {
   "cell_type": "code",
   "execution_count": 6,
   "id": "5168a03d-7719-452e-b825-97a392a71963",
   "metadata": {},
   "outputs": [
    {
     "data": {
      "text/plain": [
       "['GSM5319989_sham3_barcodes.tsv.gz',\n",
       " 'GSM5319990_MCAO1_barcodes.tsv.gz',\n",
       " 'GSM5319987_sham1_features.tsv.gz',\n",
       " 'GSM5319988_sham2_matrix.mtx.gz',\n",
       " 'GSM5319992_MCAO3_barcodes.tsv.gz',\n",
       " 'GSM5319987_sham1_barcodes.tsv.gz',\n",
       " 'GSM5319989_sham3_matrix.mtx.gz',\n",
       " 'GSM5319990_MCAO1_matrix.mtx.gz',\n",
       " 'GSM5319991_MCAO2_features.tsv.gz',\n",
       " 'GSM5319990_MCAO1_features.tsv.gz',\n",
       " 'GSM5319991_MCAO2_barcodes.tsv.gz',\n",
       " 'GSM5319992_MCAO3_matrix.mtx.gz',\n",
       " 'GSM5319987_sham1_matrix.mtx.gz',\n",
       " 'GSM5319988_sham2_barcodes.tsv.gz',\n",
       " 'GSM5319989_sham3_features.tsv.gz',\n",
       " 'GSM5319988_sham2_features.tsv.gz',\n",
       " 'GSM5319991_MCAO2_matrix.mtx.gz',\n",
       " 'GSM5319992_MCAO3_features.tsv.gz']"
      ]
     },
     "execution_count": 6,
     "metadata": {},
     "output_type": "execute_result"
    }
   ],
   "source": [
    "os.listdir(os.path.join('..', 'GSE174574_RAW'))"
   ]
  },
  {
   "cell_type": "code",
   "execution_count": 8,
   "id": "45c60ddc-5876-48c1-8393-87a5786b394a",
   "metadata": {},
   "outputs": [
    {
     "data": {
      "text/plain": [
       "'../GSE174574_RAW'"
      ]
     },
     "execution_count": 8,
     "metadata": {},
     "output_type": "execute_result"
    }
   ],
   "source": [
    "os.path.join('..', 'GSE174574_RAW')"
   ]
  },
  {
   "cell_type": "markdown",
   "id": "fc5e7ea1-2097-4158-9852-f03e556376fc",
   "metadata": {},
   "source": [
    "Following test function to import a file for one sample resulted in an error:"
   ]
  },
  {
   "cell_type": "code",
   "execution_count": 9,
   "id": "4536a8e3-4a5f-4093-a800-220ad96f4503",
   "metadata": {
    "scrolled": true,
    "tags": []
   },
   "outputs": [
    {
     "name": "stdout",
     "output_type": "stream",
     "text": [
      "KeyError occurred, trying without feature_types.\n"
     ]
    },
    {
     "ename": "KeyError",
     "evalue": "2",
     "output_type": "error",
     "traceback": [
      "\u001b[0;31m---------------------------------------------------------------------------\u001b[0m",
      "\u001b[0;31mKeyError\u001b[0m                                  Traceback (most recent call last)",
      "File \u001b[0;32m/fast/home/y/ykazci/miniforge3/envs/scanpy_loompy/lib/python3.10/site-packages/pandas/core/indexes/base.py:3805\u001b[0m, in \u001b[0;36mIndex.get_loc\u001b[0;34m(self, key)\u001b[0m\n\u001b[1;32m   3804\u001b[0m \u001b[38;5;28;01mtry\u001b[39;00m:\n\u001b[0;32m-> 3805\u001b[0m     \u001b[38;5;28;01mreturn\u001b[39;00m \u001b[38;5;28;43mself\u001b[39;49m\u001b[38;5;241;43m.\u001b[39;49m\u001b[43m_engine\u001b[49m\u001b[38;5;241;43m.\u001b[39;49m\u001b[43mget_loc\u001b[49m\u001b[43m(\u001b[49m\u001b[43mcasted_key\u001b[49m\u001b[43m)\u001b[49m\n\u001b[1;32m   3806\u001b[0m \u001b[38;5;28;01mexcept\u001b[39;00m \u001b[38;5;167;01mKeyError\u001b[39;00m \u001b[38;5;28;01mas\u001b[39;00m err:\n",
      "File \u001b[0;32mindex.pyx:167\u001b[0m, in \u001b[0;36mpandas._libs.index.IndexEngine.get_loc\u001b[0;34m()\u001b[0m\n",
      "File \u001b[0;32mindex.pyx:196\u001b[0m, in \u001b[0;36mpandas._libs.index.IndexEngine.get_loc\u001b[0;34m()\u001b[0m\n",
      "File \u001b[0;32mpandas/_libs/hashtable_class_helper.pxi:2606\u001b[0m, in \u001b[0;36mpandas._libs.hashtable.Int64HashTable.get_item\u001b[0;34m()\u001b[0m\n",
      "File \u001b[0;32mpandas/_libs/hashtable_class_helper.pxi:2630\u001b[0m, in \u001b[0;36mpandas._libs.hashtable.Int64HashTable.get_item\u001b[0;34m()\u001b[0m\n",
      "\u001b[0;31mKeyError\u001b[0m: 2",
      "\nThe above exception was the direct cause of the following exception:\n",
      "\u001b[0;31mKeyError\u001b[0m                                  Traceback (most recent call last)",
      "Cell \u001b[0;32mIn[9], line 7\u001b[0m\n\u001b[1;32m      6\u001b[0m \u001b[38;5;28;01mtry\u001b[39;00m:\n\u001b[0;32m----> 7\u001b[0m     adata_test \u001b[38;5;241m=\u001b[39m \u001b[43msc\u001b[49m\u001b[38;5;241;43m.\u001b[39;49m\u001b[43mread_10x_mtx\u001b[49m\u001b[43m(\u001b[49m\u001b[43mpath\u001b[49m\u001b[38;5;241;43m=\u001b[39;49m\u001b[43mpath\u001b[49m\u001b[43m,\u001b[49m\u001b[43m \u001b[49m\u001b[43mvar_names\u001b[49m\u001b[38;5;241;43m=\u001b[39;49m\u001b[38;5;124;43m'\u001b[39;49m\u001b[38;5;124;43mgene_symbols\u001b[39;49m\u001b[38;5;124;43m'\u001b[39;49m\u001b[43m,\u001b[49m\u001b[43m \u001b[49m\u001b[43mprefix\u001b[49m\u001b[38;5;241;43m=\u001b[39;49m\u001b[43mprefix\u001b[49m\u001b[43m)\u001b[49m\n\u001b[1;32m      8\u001b[0m \u001b[38;5;28;01mexcept\u001b[39;00m \u001b[38;5;167;01mKeyError\u001b[39;00m:\n\u001b[1;32m      9\u001b[0m     \u001b[38;5;66;03m# Fallback option if the file format is legacy and lacks feature_types\u001b[39;00m\n",
      "File \u001b[0;32m/fast/home/y/ykazci/miniforge3/envs/scanpy_loompy/lib/python3.10/site-packages/legacy_api_wrap/__init__.py:80\u001b[0m, in \u001b[0;36mlegacy_api.<locals>.wrapper.<locals>.fn_compatible\u001b[0;34m(*args_all, **kw)\u001b[0m\n\u001b[1;32m     79\u001b[0m \u001b[38;5;28;01mif\u001b[39;00m \u001b[38;5;28mlen\u001b[39m(args_all) \u001b[38;5;241m<\u001b[39m\u001b[38;5;241m=\u001b[39m n_positional:\n\u001b[0;32m---> 80\u001b[0m     \u001b[38;5;28;01mreturn\u001b[39;00m \u001b[43mfn\u001b[49m\u001b[43m(\u001b[49m\u001b[38;5;241;43m*\u001b[39;49m\u001b[43margs_all\u001b[49m\u001b[43m,\u001b[49m\u001b[43m \u001b[49m\u001b[38;5;241;43m*\u001b[39;49m\u001b[38;5;241;43m*\u001b[39;49m\u001b[43mkw\u001b[49m\u001b[43m)\u001b[49m\n\u001b[1;32m     82\u001b[0m args_pos: P\u001b[38;5;241m.\u001b[39margs\n",
      "File \u001b[0;32m/fast/home/y/ykazci/miniforge3/envs/scanpy_loompy/lib/python3.10/site-packages/scanpy/readwrite.py:561\u001b[0m, in \u001b[0;36mread_10x_mtx\u001b[0;34m(path, var_names, make_unique, cache, cache_compression, gex_only, prefix)\u001b[0m\n\u001b[1;32m    560\u001b[0m is_legacy \u001b[38;5;241m=\u001b[39m (path \u001b[38;5;241m/\u001b[39m \u001b[38;5;124mf\u001b[39m\u001b[38;5;124m\"\u001b[39m\u001b[38;5;132;01m{\u001b[39;00mprefix\u001b[38;5;132;01m}\u001b[39;00m\u001b[38;5;124mgenes.tsv\u001b[39m\u001b[38;5;124m\"\u001b[39m)\u001b[38;5;241m.\u001b[39mis_file()\n\u001b[0;32m--> 561\u001b[0m adata \u001b[38;5;241m=\u001b[39m \u001b[43m_read_10x_mtx\u001b[49m\u001b[43m(\u001b[49m\n\u001b[1;32m    562\u001b[0m \u001b[43m    \u001b[49m\u001b[43mpath\u001b[49m\u001b[43m,\u001b[49m\n\u001b[1;32m    563\u001b[0m \u001b[43m    \u001b[49m\u001b[43mvar_names\u001b[49m\u001b[38;5;241;43m=\u001b[39;49m\u001b[43mvar_names\u001b[49m\u001b[43m,\u001b[49m\n\u001b[1;32m    564\u001b[0m \u001b[43m    \u001b[49m\u001b[43mmake_unique\u001b[49m\u001b[38;5;241;43m=\u001b[39;49m\u001b[43mmake_unique\u001b[49m\u001b[43m,\u001b[49m\n\u001b[1;32m    565\u001b[0m \u001b[43m    \u001b[49m\u001b[43mcache\u001b[49m\u001b[38;5;241;43m=\u001b[39;49m\u001b[43mcache\u001b[49m\u001b[43m,\u001b[49m\n\u001b[1;32m    566\u001b[0m \u001b[43m    \u001b[49m\u001b[43mcache_compression\u001b[49m\u001b[38;5;241;43m=\u001b[39;49m\u001b[43mcache_compression\u001b[49m\u001b[43m,\u001b[49m\n\u001b[1;32m    567\u001b[0m \u001b[43m    \u001b[49m\u001b[43mprefix\u001b[49m\u001b[38;5;241;43m=\u001b[39;49m\u001b[43mprefix\u001b[49m\u001b[43m,\u001b[49m\n\u001b[1;32m    568\u001b[0m \u001b[43m    \u001b[49m\u001b[43mis_legacy\u001b[49m\u001b[38;5;241;43m=\u001b[39;49m\u001b[43mis_legacy\u001b[49m\u001b[43m,\u001b[49m\n\u001b[1;32m    569\u001b[0m \u001b[43m\u001b[49m\u001b[43m)\u001b[49m\n\u001b[1;32m    570\u001b[0m \u001b[38;5;28;01mif\u001b[39;00m is_legacy \u001b[38;5;129;01mor\u001b[39;00m \u001b[38;5;129;01mnot\u001b[39;00m gex_only:\n",
      "File \u001b[0;32m/fast/home/y/ykazci/miniforge3/envs/scanpy_loompy/lib/python3.10/site-packages/scanpy/readwrite.py:612\u001b[0m, in \u001b[0;36m_read_10x_mtx\u001b[0;34m(path, var_names, make_unique, cache, cache_compression, prefix, is_legacy)\u001b[0m\n\u001b[1;32m    611\u001b[0m \u001b[38;5;28;01mif\u001b[39;00m \u001b[38;5;129;01mnot\u001b[39;00m is_legacy:\n\u001b[0;32m--> 612\u001b[0m     adata\u001b[38;5;241m.\u001b[39mvar[\u001b[38;5;124m\"\u001b[39m\u001b[38;5;124mfeature_types\u001b[39m\u001b[38;5;124m\"\u001b[39m] \u001b[38;5;241m=\u001b[39m \u001b[43mgenes\u001b[49m\u001b[43m[\u001b[49m\u001b[38;5;241;43m2\u001b[39;49m\u001b[43m]\u001b[49m\u001b[38;5;241m.\u001b[39mvalues\n\u001b[1;32m    613\u001b[0m barcodes \u001b[38;5;241m=\u001b[39m pd\u001b[38;5;241m.\u001b[39mread_csv(path \u001b[38;5;241m/\u001b[39m \u001b[38;5;124mf\u001b[39m\u001b[38;5;124m\"\u001b[39m\u001b[38;5;132;01m{\u001b[39;00mprefix\u001b[38;5;132;01m}\u001b[39;00m\u001b[38;5;124mbarcodes.tsv\u001b[39m\u001b[38;5;132;01m{\u001b[39;00msuffix\u001b[38;5;132;01m}\u001b[39;00m\u001b[38;5;124m\"\u001b[39m, header\u001b[38;5;241m=\u001b[39m\u001b[38;5;28;01mNone\u001b[39;00m)\n",
      "File \u001b[0;32m/fast/home/y/ykazci/miniforge3/envs/scanpy_loompy/lib/python3.10/site-packages/pandas/core/frame.py:4102\u001b[0m, in \u001b[0;36mDataFrame.__getitem__\u001b[0;34m(self, key)\u001b[0m\n\u001b[1;32m   4101\u001b[0m     \u001b[38;5;28;01mreturn\u001b[39;00m \u001b[38;5;28mself\u001b[39m\u001b[38;5;241m.\u001b[39m_getitem_multilevel(key)\n\u001b[0;32m-> 4102\u001b[0m indexer \u001b[38;5;241m=\u001b[39m \u001b[38;5;28;43mself\u001b[39;49m\u001b[38;5;241;43m.\u001b[39;49m\u001b[43mcolumns\u001b[49m\u001b[38;5;241;43m.\u001b[39;49m\u001b[43mget_loc\u001b[49m\u001b[43m(\u001b[49m\u001b[43mkey\u001b[49m\u001b[43m)\u001b[49m\n\u001b[1;32m   4103\u001b[0m \u001b[38;5;28;01mif\u001b[39;00m is_integer(indexer):\n",
      "File \u001b[0;32m/fast/home/y/ykazci/miniforge3/envs/scanpy_loompy/lib/python3.10/site-packages/pandas/core/indexes/base.py:3812\u001b[0m, in \u001b[0;36mIndex.get_loc\u001b[0;34m(self, key)\u001b[0m\n\u001b[1;32m   3811\u001b[0m         \u001b[38;5;28;01mraise\u001b[39;00m InvalidIndexError(key)\n\u001b[0;32m-> 3812\u001b[0m     \u001b[38;5;28;01mraise\u001b[39;00m \u001b[38;5;167;01mKeyError\u001b[39;00m(key) \u001b[38;5;28;01mfrom\u001b[39;00m \u001b[38;5;21;01merr\u001b[39;00m\n\u001b[1;32m   3813\u001b[0m \u001b[38;5;28;01mexcept\u001b[39;00m \u001b[38;5;167;01mTypeError\u001b[39;00m:\n\u001b[1;32m   3814\u001b[0m     \u001b[38;5;66;03m# If we have a listlike key, _check_indexing_error will raise\u001b[39;00m\n\u001b[1;32m   3815\u001b[0m     \u001b[38;5;66;03m#  InvalidIndexError. Otherwise we fall through and re-raise\u001b[39;00m\n\u001b[1;32m   3816\u001b[0m     \u001b[38;5;66;03m#  the TypeError.\u001b[39;00m\n",
      "\u001b[0;31mKeyError\u001b[0m: 2",
      "\nDuring handling of the above exception, another exception occurred:\n",
      "\u001b[0;31mKeyError\u001b[0m                                  Traceback (most recent call last)",
      "File \u001b[0;32m/fast/home/y/ykazci/miniforge3/envs/scanpy_loompy/lib/python3.10/site-packages/pandas/core/indexes/base.py:3805\u001b[0m, in \u001b[0;36mIndex.get_loc\u001b[0;34m(self, key)\u001b[0m\n\u001b[1;32m   3804\u001b[0m \u001b[38;5;28;01mtry\u001b[39;00m:\n\u001b[0;32m-> 3805\u001b[0m     \u001b[38;5;28;01mreturn\u001b[39;00m \u001b[38;5;28;43mself\u001b[39;49m\u001b[38;5;241;43m.\u001b[39;49m\u001b[43m_engine\u001b[49m\u001b[38;5;241;43m.\u001b[39;49m\u001b[43mget_loc\u001b[49m\u001b[43m(\u001b[49m\u001b[43mcasted_key\u001b[49m\u001b[43m)\u001b[49m\n\u001b[1;32m   3806\u001b[0m \u001b[38;5;28;01mexcept\u001b[39;00m \u001b[38;5;167;01mKeyError\u001b[39;00m \u001b[38;5;28;01mas\u001b[39;00m err:\n",
      "File \u001b[0;32mindex.pyx:167\u001b[0m, in \u001b[0;36mpandas._libs.index.IndexEngine.get_loc\u001b[0;34m()\u001b[0m\n",
      "File \u001b[0;32mindex.pyx:196\u001b[0m, in \u001b[0;36mpandas._libs.index.IndexEngine.get_loc\u001b[0;34m()\u001b[0m\n",
      "File \u001b[0;32mpandas/_libs/hashtable_class_helper.pxi:2606\u001b[0m, in \u001b[0;36mpandas._libs.hashtable.Int64HashTable.get_item\u001b[0;34m()\u001b[0m\n",
      "File \u001b[0;32mpandas/_libs/hashtable_class_helper.pxi:2630\u001b[0m, in \u001b[0;36mpandas._libs.hashtable.Int64HashTable.get_item\u001b[0;34m()\u001b[0m\n",
      "\u001b[0;31mKeyError\u001b[0m: 2",
      "\nThe above exception was the direct cause of the following exception:\n",
      "\u001b[0;31mKeyError\u001b[0m                                  Traceback (most recent call last)",
      "Cell \u001b[0;32mIn[9], line 11\u001b[0m\n\u001b[1;32m      8\u001b[0m \u001b[38;5;28;01mexcept\u001b[39;00m \u001b[38;5;167;01mKeyError\u001b[39;00m:\n\u001b[1;32m      9\u001b[0m     \u001b[38;5;66;03m# Fallback option if the file format is legacy and lacks feature_types\u001b[39;00m\n\u001b[1;32m     10\u001b[0m     \u001b[38;5;28mprint\u001b[39m(\u001b[38;5;124m\"\u001b[39m\u001b[38;5;124mKeyError occurred, trying without feature_types.\u001b[39m\u001b[38;5;124m\"\u001b[39m)\n\u001b[0;32m---> 11\u001b[0m     adata_test \u001b[38;5;241m=\u001b[39m \u001b[43msc\u001b[49m\u001b[38;5;241;43m.\u001b[39;49m\u001b[43mread_10x_mtx\u001b[49m\u001b[43m(\u001b[49m\u001b[43mpath\u001b[49m\u001b[38;5;241;43m=\u001b[39;49m\u001b[43mpath\u001b[49m\u001b[43m,\u001b[49m\u001b[43m \u001b[49m\u001b[43mvar_names\u001b[49m\u001b[38;5;241;43m=\u001b[39;49m\u001b[38;5;124;43m'\u001b[39;49m\u001b[38;5;124;43mgene_symbols\u001b[39;49m\u001b[38;5;124;43m'\u001b[39;49m\u001b[43m,\u001b[49m\u001b[43m \u001b[49m\u001b[43mprefix\u001b[49m\u001b[38;5;241;43m=\u001b[39;49m\u001b[43mprefix\u001b[49m\u001b[43m,\u001b[49m\u001b[43m \u001b[49m\u001b[43mgex_only\u001b[49m\u001b[38;5;241;43m=\u001b[39;49m\u001b[38;5;28;43;01mFalse\u001b[39;49;00m\u001b[43m)\u001b[49m\n",
      "File \u001b[0;32m/fast/home/y/ykazci/miniforge3/envs/scanpy_loompy/lib/python3.10/site-packages/legacy_api_wrap/__init__.py:80\u001b[0m, in \u001b[0;36mlegacy_api.<locals>.wrapper.<locals>.fn_compatible\u001b[0;34m(*args_all, **kw)\u001b[0m\n\u001b[1;32m     77\u001b[0m \u001b[38;5;129m@wraps\u001b[39m(fn)\n\u001b[1;32m     78\u001b[0m \u001b[38;5;28;01mdef\u001b[39;00m \u001b[38;5;21mfn_compatible\u001b[39m(\u001b[38;5;241m*\u001b[39margs_all: P\u001b[38;5;241m.\u001b[39margs, \u001b[38;5;241m*\u001b[39m\u001b[38;5;241m*\u001b[39mkw: P\u001b[38;5;241m.\u001b[39mkwargs) \u001b[38;5;241m-\u001b[39m\u001b[38;5;241m>\u001b[39m R:\n\u001b[1;32m     79\u001b[0m     \u001b[38;5;28;01mif\u001b[39;00m \u001b[38;5;28mlen\u001b[39m(args_all) \u001b[38;5;241m<\u001b[39m\u001b[38;5;241m=\u001b[39m n_positional:\n\u001b[0;32m---> 80\u001b[0m         \u001b[38;5;28;01mreturn\u001b[39;00m \u001b[43mfn\u001b[49m\u001b[43m(\u001b[49m\u001b[38;5;241;43m*\u001b[39;49m\u001b[43margs_all\u001b[49m\u001b[43m,\u001b[49m\u001b[43m \u001b[49m\u001b[38;5;241;43m*\u001b[39;49m\u001b[38;5;241;43m*\u001b[39;49m\u001b[43mkw\u001b[49m\u001b[43m)\u001b[49m\n\u001b[1;32m     82\u001b[0m     args_pos: P\u001b[38;5;241m.\u001b[39margs\n\u001b[1;32m     83\u001b[0m     args_pos, args_rest \u001b[38;5;241m=\u001b[39m args_all[:n_positional], args_all[n_positional:]\n",
      "File \u001b[0;32m/fast/home/y/ykazci/miniforge3/envs/scanpy_loompy/lib/python3.10/site-packages/scanpy/readwrite.py:561\u001b[0m, in \u001b[0;36mread_10x_mtx\u001b[0;34m(path, var_names, make_unique, cache, cache_compression, gex_only, prefix)\u001b[0m\n\u001b[1;32m    559\u001b[0m prefix \u001b[38;5;241m=\u001b[39m \u001b[38;5;124m\"\u001b[39m\u001b[38;5;124m\"\u001b[39m \u001b[38;5;28;01mif\u001b[39;00m prefix \u001b[38;5;129;01mis\u001b[39;00m \u001b[38;5;28;01mNone\u001b[39;00m \u001b[38;5;28;01melse\u001b[39;00m prefix\n\u001b[1;32m    560\u001b[0m is_legacy \u001b[38;5;241m=\u001b[39m (path \u001b[38;5;241m/\u001b[39m \u001b[38;5;124mf\u001b[39m\u001b[38;5;124m\"\u001b[39m\u001b[38;5;132;01m{\u001b[39;00mprefix\u001b[38;5;132;01m}\u001b[39;00m\u001b[38;5;124mgenes.tsv\u001b[39m\u001b[38;5;124m\"\u001b[39m)\u001b[38;5;241m.\u001b[39mis_file()\n\u001b[0;32m--> 561\u001b[0m adata \u001b[38;5;241m=\u001b[39m \u001b[43m_read_10x_mtx\u001b[49m\u001b[43m(\u001b[49m\n\u001b[1;32m    562\u001b[0m \u001b[43m    \u001b[49m\u001b[43mpath\u001b[49m\u001b[43m,\u001b[49m\n\u001b[1;32m    563\u001b[0m \u001b[43m    \u001b[49m\u001b[43mvar_names\u001b[49m\u001b[38;5;241;43m=\u001b[39;49m\u001b[43mvar_names\u001b[49m\u001b[43m,\u001b[49m\n\u001b[1;32m    564\u001b[0m \u001b[43m    \u001b[49m\u001b[43mmake_unique\u001b[49m\u001b[38;5;241;43m=\u001b[39;49m\u001b[43mmake_unique\u001b[49m\u001b[43m,\u001b[49m\n\u001b[1;32m    565\u001b[0m \u001b[43m    \u001b[49m\u001b[43mcache\u001b[49m\u001b[38;5;241;43m=\u001b[39;49m\u001b[43mcache\u001b[49m\u001b[43m,\u001b[49m\n\u001b[1;32m    566\u001b[0m \u001b[43m    \u001b[49m\u001b[43mcache_compression\u001b[49m\u001b[38;5;241;43m=\u001b[39;49m\u001b[43mcache_compression\u001b[49m\u001b[43m,\u001b[49m\n\u001b[1;32m    567\u001b[0m \u001b[43m    \u001b[49m\u001b[43mprefix\u001b[49m\u001b[38;5;241;43m=\u001b[39;49m\u001b[43mprefix\u001b[49m\u001b[43m,\u001b[49m\n\u001b[1;32m    568\u001b[0m \u001b[43m    \u001b[49m\u001b[43mis_legacy\u001b[49m\u001b[38;5;241;43m=\u001b[39;49m\u001b[43mis_legacy\u001b[49m\u001b[43m,\u001b[49m\n\u001b[1;32m    569\u001b[0m \u001b[43m\u001b[49m\u001b[43m)\u001b[49m\n\u001b[1;32m    570\u001b[0m \u001b[38;5;28;01mif\u001b[39;00m is_legacy \u001b[38;5;129;01mor\u001b[39;00m \u001b[38;5;129;01mnot\u001b[39;00m gex_only:\n\u001b[1;32m    571\u001b[0m     \u001b[38;5;28;01mreturn\u001b[39;00m adata\n",
      "File \u001b[0;32m/fast/home/y/ykazci/miniforge3/envs/scanpy_loompy/lib/python3.10/site-packages/scanpy/readwrite.py:612\u001b[0m, in \u001b[0;36m_read_10x_mtx\u001b[0;34m(path, var_names, make_unique, cache, cache_compression, prefix, is_legacy)\u001b[0m\n\u001b[1;32m    610\u001b[0m     \u001b[38;5;28;01mraise\u001b[39;00m \u001b[38;5;167;01mValueError\u001b[39;00m(\u001b[38;5;124m\"\u001b[39m\u001b[38;5;124m`var_names` needs to be \u001b[39m\u001b[38;5;124m'\u001b[39m\u001b[38;5;124mgene_symbols\u001b[39m\u001b[38;5;124m'\u001b[39m\u001b[38;5;124m or \u001b[39m\u001b[38;5;124m'\u001b[39m\u001b[38;5;124mgene_ids\u001b[39m\u001b[38;5;124m'\u001b[39m\u001b[38;5;124m\"\u001b[39m)\n\u001b[1;32m    611\u001b[0m \u001b[38;5;28;01mif\u001b[39;00m \u001b[38;5;129;01mnot\u001b[39;00m is_legacy:\n\u001b[0;32m--> 612\u001b[0m     adata\u001b[38;5;241m.\u001b[39mvar[\u001b[38;5;124m\"\u001b[39m\u001b[38;5;124mfeature_types\u001b[39m\u001b[38;5;124m\"\u001b[39m] \u001b[38;5;241m=\u001b[39m \u001b[43mgenes\u001b[49m\u001b[43m[\u001b[49m\u001b[38;5;241;43m2\u001b[39;49m\u001b[43m]\u001b[49m\u001b[38;5;241m.\u001b[39mvalues\n\u001b[1;32m    613\u001b[0m barcodes \u001b[38;5;241m=\u001b[39m pd\u001b[38;5;241m.\u001b[39mread_csv(path \u001b[38;5;241m/\u001b[39m \u001b[38;5;124mf\u001b[39m\u001b[38;5;124m\"\u001b[39m\u001b[38;5;132;01m{\u001b[39;00mprefix\u001b[38;5;132;01m}\u001b[39;00m\u001b[38;5;124mbarcodes.tsv\u001b[39m\u001b[38;5;132;01m{\u001b[39;00msuffix\u001b[38;5;132;01m}\u001b[39;00m\u001b[38;5;124m\"\u001b[39m, header\u001b[38;5;241m=\u001b[39m\u001b[38;5;28;01mNone\u001b[39;00m)\n\u001b[1;32m    614\u001b[0m adata\u001b[38;5;241m.\u001b[39mobs_names \u001b[38;5;241m=\u001b[39m barcodes[\u001b[38;5;241m0\u001b[39m]\u001b[38;5;241m.\u001b[39mvalues\n",
      "File \u001b[0;32m/fast/home/y/ykazci/miniforge3/envs/scanpy_loompy/lib/python3.10/site-packages/pandas/core/frame.py:4102\u001b[0m, in \u001b[0;36mDataFrame.__getitem__\u001b[0;34m(self, key)\u001b[0m\n\u001b[1;32m   4100\u001b[0m \u001b[38;5;28;01mif\u001b[39;00m \u001b[38;5;28mself\u001b[39m\u001b[38;5;241m.\u001b[39mcolumns\u001b[38;5;241m.\u001b[39mnlevels \u001b[38;5;241m>\u001b[39m \u001b[38;5;241m1\u001b[39m:\n\u001b[1;32m   4101\u001b[0m     \u001b[38;5;28;01mreturn\u001b[39;00m \u001b[38;5;28mself\u001b[39m\u001b[38;5;241m.\u001b[39m_getitem_multilevel(key)\n\u001b[0;32m-> 4102\u001b[0m indexer \u001b[38;5;241m=\u001b[39m \u001b[38;5;28;43mself\u001b[39;49m\u001b[38;5;241;43m.\u001b[39;49m\u001b[43mcolumns\u001b[49m\u001b[38;5;241;43m.\u001b[39;49m\u001b[43mget_loc\u001b[49m\u001b[43m(\u001b[49m\u001b[43mkey\u001b[49m\u001b[43m)\u001b[49m\n\u001b[1;32m   4103\u001b[0m \u001b[38;5;28;01mif\u001b[39;00m is_integer(indexer):\n\u001b[1;32m   4104\u001b[0m     indexer \u001b[38;5;241m=\u001b[39m [indexer]\n",
      "File \u001b[0;32m/fast/home/y/ykazci/miniforge3/envs/scanpy_loompy/lib/python3.10/site-packages/pandas/core/indexes/base.py:3812\u001b[0m, in \u001b[0;36mIndex.get_loc\u001b[0;34m(self, key)\u001b[0m\n\u001b[1;32m   3807\u001b[0m     \u001b[38;5;28;01mif\u001b[39;00m \u001b[38;5;28misinstance\u001b[39m(casted_key, \u001b[38;5;28mslice\u001b[39m) \u001b[38;5;129;01mor\u001b[39;00m (\n\u001b[1;32m   3808\u001b[0m         \u001b[38;5;28misinstance\u001b[39m(casted_key, abc\u001b[38;5;241m.\u001b[39mIterable)\n\u001b[1;32m   3809\u001b[0m         \u001b[38;5;129;01mand\u001b[39;00m \u001b[38;5;28many\u001b[39m(\u001b[38;5;28misinstance\u001b[39m(x, \u001b[38;5;28mslice\u001b[39m) \u001b[38;5;28;01mfor\u001b[39;00m x \u001b[38;5;129;01min\u001b[39;00m casted_key)\n\u001b[1;32m   3810\u001b[0m     ):\n\u001b[1;32m   3811\u001b[0m         \u001b[38;5;28;01mraise\u001b[39;00m InvalidIndexError(key)\n\u001b[0;32m-> 3812\u001b[0m     \u001b[38;5;28;01mraise\u001b[39;00m \u001b[38;5;167;01mKeyError\u001b[39;00m(key) \u001b[38;5;28;01mfrom\u001b[39;00m \u001b[38;5;21;01merr\u001b[39;00m\n\u001b[1;32m   3813\u001b[0m \u001b[38;5;28;01mexcept\u001b[39;00m \u001b[38;5;167;01mTypeError\u001b[39;00m:\n\u001b[1;32m   3814\u001b[0m     \u001b[38;5;66;03m# If we have a listlike key, _check_indexing_error will raise\u001b[39;00m\n\u001b[1;32m   3815\u001b[0m     \u001b[38;5;66;03m#  InvalidIndexError. Otherwise we fall through and re-raise\u001b[39;00m\n\u001b[1;32m   3816\u001b[0m     \u001b[38;5;66;03m#  the TypeError.\u001b[39;00m\n\u001b[1;32m   3817\u001b[0m     \u001b[38;5;28mself\u001b[39m\u001b[38;5;241m.\u001b[39m_check_indexing_error(key)\n",
      "\u001b[0;31mKeyError\u001b[0m: 2"
     ]
    }
   ],
   "source": [
    "# Path to directory and prefix to files\n",
    "path = os.path.join('..', 'GSE174574_RAW')\n",
    "prefix = 'GSM5319988_sham2_'\n",
    "\n",
    "# Attempt reading in legacy format by setting `var_names` and checking if `feature_types` exists\n",
    "try:\n",
    "    adata_test = sc.read_10x_mtx(path=path, var_names='gene_symbols', prefix=prefix)\n",
    "except KeyError:\n",
    "    # Fallback option if the file format is legacy and lacks feature_types\n",
    "    print(\"KeyError occurred, trying without feature_types.\")\n",
    "    adata_test = sc.read_10x_mtx(path=path, var_names='gene_symbols', prefix=prefix, gex_only=False)"
   ]
  },
  {
   "cell_type": "markdown",
   "id": "395ad06c-9475-40de-8294-43843b6301f2",
   "metadata": {},
   "source": [
    "To address this error, previously, I imported the features file for the sham_1 sample and \\\n",
    "adjusted its column structure to match the expectations of the anndata import function.\\\n",
    "Below, I will use the same codes to adjust for sham_2 sample and then write a loop \\\n",
    "to adjust all of the remaining samples."
   ]
  },
  {
   "cell_type": "markdown",
   "id": "a18ee0fa-770e-47d8-9673-2de20f9869f6",
   "metadata": {},
   "source": [
    "Check the reading function first:"
   ]
  },
  {
   "cell_type": "code",
   "execution_count": 13,
   "id": "4f221862-1eda-417b-a482-fbb1e53acdbe",
   "metadata": {},
   "outputs": [],
   "source": [
    "import pandas as pd\n",
    "import os\n",
    "\n",
    "# Load features.tsv file and check columns\n",
    "features_file = os.path.join('..', 'GSE174574_RAW', 'GSM5319988_sham2_features.tsv.gz')\n",
    "features = pd.read_csv(features_file, sep='\\t', header=None)"
   ]
  },
  {
   "cell_type": "code",
   "execution_count": 14,
   "id": "8bbea545-1cca-4ba0-b663-124c1a216d7b",
   "metadata": {},
   "outputs": [
    {
     "data": {
      "text/html": [
       "<div>\n",
       "<style scoped>\n",
       "    .dataframe tbody tr th:only-of-type {\n",
       "        vertical-align: middle;\n",
       "    }\n",
       "\n",
       "    .dataframe tbody tr th {\n",
       "        vertical-align: top;\n",
       "    }\n",
       "\n",
       "    .dataframe thead th {\n",
       "        text-align: right;\n",
       "    }\n",
       "</style>\n",
       "<table border=\"1\" class=\"dataframe\">\n",
       "  <thead>\n",
       "    <tr style=\"text-align: right;\">\n",
       "      <th></th>\n",
       "      <th>0</th>\n",
       "      <th>1</th>\n",
       "    </tr>\n",
       "  </thead>\n",
       "  <tbody>\n",
       "    <tr>\n",
       "      <th>0</th>\n",
       "      <td>ENSMUSG00000051951</td>\n",
       "      <td>Xkr4</td>\n",
       "    </tr>\n",
       "    <tr>\n",
       "      <th>1</th>\n",
       "      <td>ENSMUSG00000089699</td>\n",
       "      <td>Gm1992</td>\n",
       "    </tr>\n",
       "    <tr>\n",
       "      <th>2</th>\n",
       "      <td>ENSMUSG00000102343</td>\n",
       "      <td>Gm37381</td>\n",
       "    </tr>\n",
       "    <tr>\n",
       "      <th>3</th>\n",
       "      <td>ENSMUSG00000025900</td>\n",
       "      <td>Rp1</td>\n",
       "    </tr>\n",
       "    <tr>\n",
       "      <th>4</th>\n",
       "      <td>ENSMUSG00000109048</td>\n",
       "      <td>Rp1</td>\n",
       "    </tr>\n",
       "    <tr>\n",
       "      <th>...</th>\n",
       "      <td>...</td>\n",
       "      <td>...</td>\n",
       "    </tr>\n",
       "    <tr>\n",
       "      <th>27993</th>\n",
       "      <td>ENSMUSG00000079808</td>\n",
       "      <td>AC168977.1</td>\n",
       "    </tr>\n",
       "    <tr>\n",
       "      <th>27994</th>\n",
       "      <td>ENSMUSG00000095041</td>\n",
       "      <td>PISD</td>\n",
       "    </tr>\n",
       "    <tr>\n",
       "      <th>27995</th>\n",
       "      <td>ENSMUSG00000063897</td>\n",
       "      <td>DHRSX</td>\n",
       "    </tr>\n",
       "    <tr>\n",
       "      <th>27996</th>\n",
       "      <td>ENSMUSG00000096730</td>\n",
       "      <td>Vmn2r122</td>\n",
       "    </tr>\n",
       "    <tr>\n",
       "      <th>27997</th>\n",
       "      <td>ENSMUSG00000095742</td>\n",
       "      <td>CAAA01147332.1</td>\n",
       "    </tr>\n",
       "  </tbody>\n",
       "</table>\n",
       "<p>27998 rows × 2 columns</p>\n",
       "</div>"
      ],
      "text/plain": [
       "                        0               1\n",
       "0      ENSMUSG00000051951            Xkr4\n",
       "1      ENSMUSG00000089699          Gm1992\n",
       "2      ENSMUSG00000102343         Gm37381\n",
       "3      ENSMUSG00000025900             Rp1\n",
       "4      ENSMUSG00000109048             Rp1\n",
       "...                   ...             ...\n",
       "27993  ENSMUSG00000079808      AC168977.1\n",
       "27994  ENSMUSG00000095041            PISD\n",
       "27995  ENSMUSG00000063897           DHRSX\n",
       "27996  ENSMUSG00000096730        Vmn2r122\n",
       "27997  ENSMUSG00000095742  CAAA01147332.1\n",
       "\n",
       "[27998 rows x 2 columns]"
      ]
     },
     "execution_count": 14,
     "metadata": {},
     "output_type": "execute_result"
    }
   ],
   "source": [
    "features"
   ]
  },
  {
   "cell_type": "code",
   "execution_count": 15,
   "id": "4bcef594-6592-454c-917a-eb8535be4fb6",
   "metadata": {},
   "outputs": [],
   "source": [
    "# It works. \n",
    "# Now, I will read and adjust the features dataframe:"
   ]
  },
  {
   "cell_type": "code",
   "execution_count": 16,
   "id": "6895331c-6018-4f72-bb78-fc623916e47b",
   "metadata": {},
   "outputs": [],
   "source": [
    "import pandas as pd\n",
    "import os\n",
    "\n",
    "# Load features.tsv file and check columns\n",
    "features_file = os.path.join('..', 'GSE174574_RAW', 'GSM5319988_sham2_features.tsv.gz')\n",
    "features = pd.read_csv(features_file, sep='\\t', header=None)\n",
    "\n",
    "# If there are only two columns, add a placeholder third column\n",
    "if features.shape[1] == 2:\n",
    "    features[2] = 'Gene Expression'\n",
    "    features.to_csv(features_file, sep='\\t', index=False, header=False)\n",
    "\n",
    "# Retry loading the matrix\n",
    "import scanpy as sc\n",
    "adata_sham2 = sc.read_10x_mtx(path=os.path.join('..', 'GSE174574_RAW'), var_names='gene_symbols', prefix='GSM5319988_sham2_')\n"
   ]
  },
  {
   "cell_type": "code",
   "execution_count": 17,
   "id": "690fb3bf-5481-430d-b2b1-4fdafd08b57e",
   "metadata": {},
   "outputs": [
    {
     "data": {
      "text/plain": [
       "AnnData object with n_obs × n_vars = 8540 × 27998\n",
       "    var: 'gene_ids', 'feature_types'"
      ]
     },
     "execution_count": 17,
     "metadata": {},
     "output_type": "execute_result"
    }
   ],
   "source": [
    "adata_sham2"
   ]
  },
  {
   "cell_type": "code",
   "execution_count": 18,
   "id": "75d8110c-d74e-4e48-8a28-fe8da7ddac9a",
   "metadata": {},
   "outputs": [
    {
     "data": {
      "text/html": [
       "<div>\n",
       "<style scoped>\n",
       "    .dataframe tbody tr th:only-of-type {\n",
       "        vertical-align: middle;\n",
       "    }\n",
       "\n",
       "    .dataframe tbody tr th {\n",
       "        vertical-align: top;\n",
       "    }\n",
       "\n",
       "    .dataframe thead th {\n",
       "        text-align: right;\n",
       "    }\n",
       "</style>\n",
       "<table border=\"1\" class=\"dataframe\">\n",
       "  <thead>\n",
       "    <tr style=\"text-align: right;\">\n",
       "      <th></th>\n",
       "    </tr>\n",
       "  </thead>\n",
       "  <tbody>\n",
       "    <tr>\n",
       "      <th>AAACCTGAGCGAAGGG-1</th>\n",
       "    </tr>\n",
       "    <tr>\n",
       "      <th>AAACCTGAGCTAACAA-1</th>\n",
       "    </tr>\n",
       "    <tr>\n",
       "      <th>AAACCTGAGGCTAGCA-1</th>\n",
       "    </tr>\n",
       "    <tr>\n",
       "      <th>AAACCTGAGGTGCACA-1</th>\n",
       "    </tr>\n",
       "    <tr>\n",
       "      <th>AAACCTGAGTTTAGGA-1</th>\n",
       "    </tr>\n",
       "    <tr>\n",
       "      <th>...</th>\n",
       "    </tr>\n",
       "    <tr>\n",
       "      <th>TTTGTCATCCCTTGCA-1</th>\n",
       "    </tr>\n",
       "    <tr>\n",
       "      <th>TTTGTCATCGAGCCCA-1</th>\n",
       "    </tr>\n",
       "    <tr>\n",
       "      <th>TTTGTCATCGTGGACC-1</th>\n",
       "    </tr>\n",
       "    <tr>\n",
       "      <th>TTTGTCATCGTTGCCT-1</th>\n",
       "    </tr>\n",
       "    <tr>\n",
       "      <th>TTTGTCATCTCGCATC-1</th>\n",
       "    </tr>\n",
       "  </tbody>\n",
       "</table>\n",
       "<p>8540 rows × 0 columns</p>\n",
       "</div>"
      ],
      "text/plain": [
       "Empty DataFrame\n",
       "Columns: []\n",
       "Index: [AAACCTGAGCGAAGGG-1, AAACCTGAGCTAACAA-1, AAACCTGAGGCTAGCA-1, AAACCTGAGGTGCACA-1, AAACCTGAGTTTAGGA-1, AAACCTGCAACACGCC-1, AAACCTGCAAGTACCT-1, AAACCTGCACGGCGTT-1, AAACCTGCAGATCGGA-1, AAACCTGCAGTCAGCC-1, AAACCTGCATCGTCGG-1, AAACCTGGTATTCTCT-1, AAACCTGGTCCGAAGA-1, AAACCTGGTCGGCACT-1, AAACCTGGTGTAAGTA-1, AAACCTGTCAGAGCTT-1, AAACCTGTCCTCAACC-1, AAACCTGTCGCCGTGA-1, AAACCTGTCGTGGACC-1, AAACGGGAGCGATCCC-1, AAACGGGAGCGCTTAT-1, AAACGGGAGCGTCTAT-1, AAACGGGCAAGGCTCC-1, AAACGGGCACGTAAGG-1, AAACGGGCACTGCCAG-1, AAACGGGCAGTAGAGC-1, AAACGGGCATAACCTG-1, AAACGGGCATATACGC-1, AAACGGGGTACCGAGA-1, AAACGGGGTCGACTGC-1, AAACGGGGTCTCCCTA-1, AAACGGGGTTGGTGGA-1, AAACGGGGTTTCGCTC-1, AAACGGGTCCCACTTG-1, AAACGGGTCCGAACGC-1, AAAGATGAGACAGGCT-1, AAAGATGAGCCTATGT-1, AAAGATGAGTAATCCC-1, AAAGATGAGTACGCGA-1, AAAGATGCACAGACTT-1, AAAGATGCACCGAATT-1, AAAGATGCAGGCAGTA-1, AAAGATGGTCAGAAGC-1, AAAGATGGTCTTGTCC-1, AAAGATGTCAGCTTAG-1, AAAGATGTCAGTACGT-1, AAAGATGTCCTTTCTC-1, AAAGATGTCGATAGAA-1, AAAGATGTCGCACTCT-1, AAAGATGTCTGTCCGT-1, AAAGATGTCTTACCTA-1, AAAGCAAAGCCCAACC-1, AAAGCAAAGCTAGTTC-1, AAAGCAAAGGAGTTTA-1, AAAGCAAAGGCGTACA-1, AAAGCAACAATGGATA-1, AAAGCAACACATCTTT-1, AAAGCAACAGAAGCAC-1, AAAGCAACAGAGTGTG-1, AAAGCAACAGATCCAT-1, AAAGCAACAGCTGCAC-1, AAAGCAACAGTAAGCG-1, AAAGCAACATCGTCGG-1, AAAGCAACATGGTCAT-1, AAAGCAACATTAGGCT-1, AAAGCAAGTCATCCCT-1, AAAGCAATCACAGGCC-1, AAAGCAATCCAAACTG-1, AAAGCAATCCTGCAGG-1, AAAGCAATCGGAATCT-1, AAAGCAATCTGCTTGC-1, AAAGTAGAGACCACGA-1, AAAGTAGAGAGACTTA-1, AAAGTAGAGGAATTAC-1, AAAGTAGAGGATGTAT-1, AAAGTAGAGGGATGGG-1, AAAGTAGAGTTAGCGG-1, AAAGTAGCAAGGCTCC-1, AAAGTAGCAGACAAAT-1, AAAGTAGCAGCTGCAC-1, AAAGTAGCAGGAATCG-1, AAAGTAGCATACAGCT-1, AAAGTAGCATGCCTTC-1, AAAGTAGGTACCGGCT-1, AAAGTAGGTAGCCTCG-1, AAAGTAGGTCAGGACA-1, AAAGTAGGTCTAGGTT-1, AAAGTAGGTCTAGTGT-1, AAAGTAGGTGGTCCGT-1, AAAGTAGTCAAGCCTA-1, AAAGTAGTCACTTATC-1, AAAGTAGTCAGCTGGC-1, AAAGTAGTCAGGCAAG-1, AAAGTAGTCCAGTAGT-1, AAAGTAGTCGTTTAGG-1, AAAGTAGTCTGAGGGA-1, AAAGTAGTCTGCTTGC-1, AAAGTAGTCTTCAACT-1, AAATGCCAGATGTTAG-1, AAATGCCAGGTGCTAG-1, ...]\n",
       "\n",
       "[8540 rows x 0 columns]"
      ]
     },
     "execution_count": 18,
     "metadata": {},
     "output_type": "execute_result"
    }
   ],
   "source": [
    "adata_sham2.obs"
   ]
  },
  {
   "cell_type": "code",
   "execution_count": 19,
   "id": "136c2875-8f92-4ce3-b561-376525f88336",
   "metadata": {},
   "outputs": [
    {
     "data": {
      "text/html": [
       "<div>\n",
       "<style scoped>\n",
       "    .dataframe tbody tr th:only-of-type {\n",
       "        vertical-align: middle;\n",
       "    }\n",
       "\n",
       "    .dataframe tbody tr th {\n",
       "        vertical-align: top;\n",
       "    }\n",
       "\n",
       "    .dataframe thead th {\n",
       "        text-align: right;\n",
       "    }\n",
       "</style>\n",
       "<table border=\"1\" class=\"dataframe\">\n",
       "  <thead>\n",
       "    <tr style=\"text-align: right;\">\n",
       "      <th></th>\n",
       "      <th>gene_ids</th>\n",
       "      <th>feature_types</th>\n",
       "    </tr>\n",
       "  </thead>\n",
       "  <tbody>\n",
       "    <tr>\n",
       "      <th>Xkr4</th>\n",
       "      <td>ENSMUSG00000051951</td>\n",
       "      <td>Gene Expression</td>\n",
       "    </tr>\n",
       "    <tr>\n",
       "      <th>Gm1992</th>\n",
       "      <td>ENSMUSG00000089699</td>\n",
       "      <td>Gene Expression</td>\n",
       "    </tr>\n",
       "    <tr>\n",
       "      <th>Gm37381</th>\n",
       "      <td>ENSMUSG00000102343</td>\n",
       "      <td>Gene Expression</td>\n",
       "    </tr>\n",
       "    <tr>\n",
       "      <th>Rp1</th>\n",
       "      <td>ENSMUSG00000025900</td>\n",
       "      <td>Gene Expression</td>\n",
       "    </tr>\n",
       "    <tr>\n",
       "      <th>Rp1-1</th>\n",
       "      <td>ENSMUSG00000109048</td>\n",
       "      <td>Gene Expression</td>\n",
       "    </tr>\n",
       "    <tr>\n",
       "      <th>...</th>\n",
       "      <td>...</td>\n",
       "      <td>...</td>\n",
       "    </tr>\n",
       "    <tr>\n",
       "      <th>AC168977.1</th>\n",
       "      <td>ENSMUSG00000079808</td>\n",
       "      <td>Gene Expression</td>\n",
       "    </tr>\n",
       "    <tr>\n",
       "      <th>PISD</th>\n",
       "      <td>ENSMUSG00000095041</td>\n",
       "      <td>Gene Expression</td>\n",
       "    </tr>\n",
       "    <tr>\n",
       "      <th>DHRSX</th>\n",
       "      <td>ENSMUSG00000063897</td>\n",
       "      <td>Gene Expression</td>\n",
       "    </tr>\n",
       "    <tr>\n",
       "      <th>Vmn2r122</th>\n",
       "      <td>ENSMUSG00000096730</td>\n",
       "      <td>Gene Expression</td>\n",
       "    </tr>\n",
       "    <tr>\n",
       "      <th>CAAA01147332.1</th>\n",
       "      <td>ENSMUSG00000095742</td>\n",
       "      <td>Gene Expression</td>\n",
       "    </tr>\n",
       "  </tbody>\n",
       "</table>\n",
       "<p>27998 rows × 2 columns</p>\n",
       "</div>"
      ],
      "text/plain": [
       "                          gene_ids    feature_types\n",
       "Xkr4            ENSMUSG00000051951  Gene Expression\n",
       "Gm1992          ENSMUSG00000089699  Gene Expression\n",
       "Gm37381         ENSMUSG00000102343  Gene Expression\n",
       "Rp1             ENSMUSG00000025900  Gene Expression\n",
       "Rp1-1           ENSMUSG00000109048  Gene Expression\n",
       "...                            ...              ...\n",
       "AC168977.1      ENSMUSG00000079808  Gene Expression\n",
       "PISD            ENSMUSG00000095041  Gene Expression\n",
       "DHRSX           ENSMUSG00000063897  Gene Expression\n",
       "Vmn2r122        ENSMUSG00000096730  Gene Expression\n",
       "CAAA01147332.1  ENSMUSG00000095742  Gene Expression\n",
       "\n",
       "[27998 rows x 2 columns]"
      ]
     },
     "execution_count": 19,
     "metadata": {},
     "output_type": "execute_result"
    }
   ],
   "source": [
    "adata_sham2.var"
   ]
  },
  {
   "cell_type": "code",
   "execution_count": 23,
   "id": "77be85e5-f91c-49c4-a5cd-70883091b346",
   "metadata": {},
   "outputs": [],
   "source": [
    "# read also the sham_1 data:\n",
    "\n",
    "# Retry loading the matrix\n",
    "import scanpy as sc\n",
    "adata_sham1 = sc.read_10x_mtx(path=os.path.join('..', 'GSE174574_RAW'), var_names='gene_symbols', prefix='GSM5319987_sham1_')\n"
   ]
  },
  {
   "cell_type": "code",
   "execution_count": 24,
   "id": "a891e818-e3c6-46f6-999b-920c84f09252",
   "metadata": {},
   "outputs": [
    {
     "data": {
      "text/plain": [
       "AnnData object with n_obs × n_vars = 8771 × 27998\n",
       "    var: 'gene_ids', 'feature_types'"
      ]
     },
     "execution_count": 24,
     "metadata": {},
     "output_type": "execute_result"
    }
   ],
   "source": [
    "adata_sham1"
   ]
  },
  {
   "cell_type": "code",
   "execution_count": 28,
   "id": "bec7af0f-cc35-4f58-9f5b-89a99f18d5d2",
   "metadata": {},
   "outputs": [
    {
     "data": {
      "text/html": [
       "<div>\n",
       "<style scoped>\n",
       "    .dataframe tbody tr th:only-of-type {\n",
       "        vertical-align: middle;\n",
       "    }\n",
       "\n",
       "    .dataframe tbody tr th {\n",
       "        vertical-align: top;\n",
       "    }\n",
       "\n",
       "    .dataframe thead th {\n",
       "        text-align: right;\n",
       "    }\n",
       "</style>\n",
       "<table border=\"1\" class=\"dataframe\">\n",
       "  <thead>\n",
       "    <tr style=\"text-align: right;\">\n",
       "      <th></th>\n",
       "    </tr>\n",
       "  </thead>\n",
       "  <tbody>\n",
       "    <tr>\n",
       "      <th>AAACCTGAGCACAGGT-1</th>\n",
       "    </tr>\n",
       "    <tr>\n",
       "      <th>AAACCTGAGCGTCAAG-1</th>\n",
       "    </tr>\n",
       "    <tr>\n",
       "      <th>AAACCTGAGGGTATCG-1</th>\n",
       "    </tr>\n",
       "    <tr>\n",
       "      <th>AAACCTGAGTTGAGAT-1</th>\n",
       "    </tr>\n",
       "    <tr>\n",
       "      <th>AAACCTGCACCTCGGA-1</th>\n",
       "    </tr>\n",
       "    <tr>\n",
       "      <th>...</th>\n",
       "    </tr>\n",
       "    <tr>\n",
       "      <th>TTTGTCAGTTATCACG-1</th>\n",
       "    </tr>\n",
       "    <tr>\n",
       "      <th>TTTGTCAGTTCTCATT-1</th>\n",
       "    </tr>\n",
       "    <tr>\n",
       "      <th>TTTGTCATCAGTGTTG-1</th>\n",
       "    </tr>\n",
       "    <tr>\n",
       "      <th>TTTGTCATCCTAGAAC-1</th>\n",
       "    </tr>\n",
       "    <tr>\n",
       "      <th>TTTGTCATCGGCGCTA-1</th>\n",
       "    </tr>\n",
       "  </tbody>\n",
       "</table>\n",
       "<p>8771 rows × 0 columns</p>\n",
       "</div>"
      ],
      "text/plain": [
       "Empty DataFrame\n",
       "Columns: []\n",
       "Index: [AAACCTGAGCACAGGT-1, AAACCTGAGCGTCAAG-1, AAACCTGAGGGTATCG-1, AAACCTGAGTTGAGAT-1, AAACCTGCACCTCGGA-1, AAACCTGCACGCCAGT-1, AAACCTGCAGACGCAA-1, AAACCTGCAGCTCGAC-1, AAACCTGCAGTCACTA-1, AAACCTGGTCACAAGG-1, AAACCTGGTCACCTAA-1, AAACCTGGTGAGCGAT-1, AAACCTGGTGATAAAC-1, AAACCTGGTGTTCGAT-1, AAACCTGGTTAAGACA-1, AAACCTGGTTGTCTTT-1, AAACCTGGTTTAGCTG-1, AAACCTGTCAAAGACA-1, AAACCTGTCACAATGC-1, AAACCTGTCAGCGATT-1, AAACCTGTCATCTGCC-1, AAACCTGTCCAAACAC-1, AAACCTGTCGCATGAT-1, AAACCTGTCTCTGCTG-1, AAACCTGTCTGTCAAG-1, AAACGGGAGGGATGGG-1, AAACGGGAGGGCACTA-1, AAACGGGAGTCGAGTG-1, AAACGGGAGTGGTAGC-1, AAACGGGCAACTTGAC-1, AAACGGGCACAGATTC-1, AAACGGGCACGGTAAG-1, AAACGGGCACGTCAGC-1, AAACGGGCAGGCTCAC-1, AAACGGGCAGTAAGCG-1, AAACGGGCATCAGTAC-1, AAACGGGGTATCACCA-1, AAACGGGGTCCGCTGA-1, AAACGGGGTGTGGCTC-1, AAACGGGTCAAGGTAA-1, AAACGGGTCAATAAGG-1, AAACGGGTCCACGACG-1, AAACGGGTCGGTCTAA-1, AAACGGGTCTAACGGT-1, AAACGGGTCTGGGCCA-1, AAACGGGTCTTGCAAG-1, AAACGGGTCTTTAGTC-1, AAAGATGAGACTGTAA-1, AAAGATGAGATCGATA-1, AAAGATGAGGGAGTAA-1, AAAGATGAGTAGGCCA-1, AAAGATGAGTTGTCGT-1, AAAGATGAGTTTCCTT-1, AAAGATGCAAGCCGTC-1, AAAGATGCACATGTGT-1, AAAGATGCACCGCTAG-1, AAAGATGCACGAAACG-1, AAAGATGCAGTGAGTG-1, AAAGATGCATGCATGT-1, AAAGATGGTAAGCACG-1, AAAGATGGTATGCTTG-1, AAAGATGGTCAGAGGT-1, AAAGATGGTGTGTGCC-1, AAAGATGTCAGGTTCA-1, AAAGATGTCATGTCTT-1, AAAGCAAAGCCCAGCT-1, AAAGCAAAGGGCTTGA-1, AAAGCAAAGGGTCGAT-1, AAAGCAAAGGTCATCT-1, AAAGCAAAGTCCGGTC-1, AAAGCAACACAGCCCA-1, AAAGCAACATCACCCT-1, AAAGCAACATGCAATC-1, AAAGCAACATGGTCTA-1, AAAGCAAGTCCGTCAG-1, AAAGCAAGTCTGCAAT-1, AAAGCAATCAATCTCT-1, AAAGCAATCCACGTTC-1, AAAGCAATCCGGCACA-1, AAAGCAATCTAAGCCA-1, AAAGCAATCTAGCACA-1, AAAGCAATCTCCAGGG-1, AAAGTAGAGAACTCGG-1, AAAGTAGCAACAACCT-1, AAAGTAGCAGATCGGA-1, AAAGTAGCAGCAGTTT-1, AAAGTAGCAGGTGGAT-1, AAAGTAGCATGTCTCC-1, AAAGTAGCATGTTCCC-1, AAAGTAGGTAGAGCTG-1, AAAGTAGGTAGGCATG-1, AAAGTAGGTCTGGTCG-1, AAAGTAGGTTACCGAT-1, AAAGTAGGTTTCGCTC-1, AAAGTAGTCTAACGGT-1, AAAGTAGTCTTGCAAG-1, AAATGCCAGATTACCC-1, AAATGCCAGCTACCTA-1, AAATGCCAGCTGCGAA-1, AAATGCCCAATAGCGG-1, ...]\n",
       "\n",
       "[8771 rows x 0 columns]"
      ]
     },
     "execution_count": 28,
     "metadata": {},
     "output_type": "execute_result"
    }
   ],
   "source": [
    "adata_sham1.obs"
   ]
  },
  {
   "cell_type": "code",
   "execution_count": 29,
   "id": "d96840cd-4d80-4dcc-a3cf-e1e9704835c6",
   "metadata": {},
   "outputs": [
    {
     "data": {
      "text/html": [
       "<div>\n",
       "<style scoped>\n",
       "    .dataframe tbody tr th:only-of-type {\n",
       "        vertical-align: middle;\n",
       "    }\n",
       "\n",
       "    .dataframe tbody tr th {\n",
       "        vertical-align: top;\n",
       "    }\n",
       "\n",
       "    .dataframe thead th {\n",
       "        text-align: right;\n",
       "    }\n",
       "</style>\n",
       "<table border=\"1\" class=\"dataframe\">\n",
       "  <thead>\n",
       "    <tr style=\"text-align: right;\">\n",
       "      <th></th>\n",
       "      <th>gene_ids</th>\n",
       "      <th>feature_types</th>\n",
       "    </tr>\n",
       "  </thead>\n",
       "  <tbody>\n",
       "    <tr>\n",
       "      <th>Xkr4</th>\n",
       "      <td>ENSMUSG00000051951</td>\n",
       "      <td>Gene Expression</td>\n",
       "    </tr>\n",
       "    <tr>\n",
       "      <th>Gm1992</th>\n",
       "      <td>ENSMUSG00000089699</td>\n",
       "      <td>Gene Expression</td>\n",
       "    </tr>\n",
       "    <tr>\n",
       "      <th>Gm37381</th>\n",
       "      <td>ENSMUSG00000102343</td>\n",
       "      <td>Gene Expression</td>\n",
       "    </tr>\n",
       "    <tr>\n",
       "      <th>Rp1</th>\n",
       "      <td>ENSMUSG00000025900</td>\n",
       "      <td>Gene Expression</td>\n",
       "    </tr>\n",
       "    <tr>\n",
       "      <th>Rp1-1</th>\n",
       "      <td>ENSMUSG00000109048</td>\n",
       "      <td>Gene Expression</td>\n",
       "    </tr>\n",
       "    <tr>\n",
       "      <th>...</th>\n",
       "      <td>...</td>\n",
       "      <td>...</td>\n",
       "    </tr>\n",
       "    <tr>\n",
       "      <th>AC168977.1</th>\n",
       "      <td>ENSMUSG00000079808</td>\n",
       "      <td>Gene Expression</td>\n",
       "    </tr>\n",
       "    <tr>\n",
       "      <th>PISD</th>\n",
       "      <td>ENSMUSG00000095041</td>\n",
       "      <td>Gene Expression</td>\n",
       "    </tr>\n",
       "    <tr>\n",
       "      <th>DHRSX</th>\n",
       "      <td>ENSMUSG00000063897</td>\n",
       "      <td>Gene Expression</td>\n",
       "    </tr>\n",
       "    <tr>\n",
       "      <th>Vmn2r122</th>\n",
       "      <td>ENSMUSG00000096730</td>\n",
       "      <td>Gene Expression</td>\n",
       "    </tr>\n",
       "    <tr>\n",
       "      <th>CAAA01147332.1</th>\n",
       "      <td>ENSMUSG00000095742</td>\n",
       "      <td>Gene Expression</td>\n",
       "    </tr>\n",
       "  </tbody>\n",
       "</table>\n",
       "<p>27998 rows × 2 columns</p>\n",
       "</div>"
      ],
      "text/plain": [
       "                          gene_ids    feature_types\n",
       "Xkr4            ENSMUSG00000051951  Gene Expression\n",
       "Gm1992          ENSMUSG00000089699  Gene Expression\n",
       "Gm37381         ENSMUSG00000102343  Gene Expression\n",
       "Rp1             ENSMUSG00000025900  Gene Expression\n",
       "Rp1-1           ENSMUSG00000109048  Gene Expression\n",
       "...                            ...              ...\n",
       "AC168977.1      ENSMUSG00000079808  Gene Expression\n",
       "PISD            ENSMUSG00000095041  Gene Expression\n",
       "DHRSX           ENSMUSG00000063897  Gene Expression\n",
       "Vmn2r122        ENSMUSG00000096730  Gene Expression\n",
       "CAAA01147332.1  ENSMUSG00000095742  Gene Expression\n",
       "\n",
       "[27998 rows x 2 columns]"
      ]
     },
     "execution_count": 29,
     "metadata": {},
     "output_type": "execute_result"
    }
   ],
   "source": [
    "adata_sham1.var"
   ]
  },
  {
   "cell_type": "code",
   "execution_count": 31,
   "id": "8c4ef17b-1294-4148-ad2b-bf99096c1662",
   "metadata": {},
   "outputs": [],
   "source": [
    "# Now, I assured that sham_1 and sham_2 data are seamlessly read. Now I will loop over all other sample files.\n",
    "# Fisrtly, I will adjust their features tsv files. Then, I will generate a merged adata from all samples."
   ]
  },
  {
   "cell_type": "code",
   "execution_count": 32,
   "id": "55e28600-c903-4c71-8102-681349ff9344",
   "metadata": {},
   "outputs": [
    {
     "data": {
      "text/plain": [
       "['GSM5319989_sham3_barcodes.tsv.gz',\n",
       " 'GSM5319990_MCAO1_barcodes.tsv.gz',\n",
       " 'GSM5319987_sham1_features.tsv.gz',\n",
       " 'GSM5319988_sham2_matrix.mtx.gz',\n",
       " 'GSM5319992_MCAO3_barcodes.tsv.gz',\n",
       " 'GSM5319987_sham1_barcodes.tsv.gz',\n",
       " 'GSM5319989_sham3_matrix.mtx.gz',\n",
       " 'GSM5319990_MCAO1_matrix.mtx.gz',\n",
       " 'GSM5319991_MCAO2_features.tsv.gz',\n",
       " 'GSM5319990_MCAO1_features.tsv.gz',\n",
       " 'GSM5319991_MCAO2_barcodes.tsv.gz',\n",
       " 'GSM5319992_MCAO3_matrix.mtx.gz',\n",
       " 'GSM5319987_sham1_matrix.mtx.gz',\n",
       " 'GSM5319988_sham2_barcodes.tsv.gz',\n",
       " 'GSM5319989_sham3_features.tsv.gz',\n",
       " 'GSM5319988_sham2_features.tsv.gz',\n",
       " 'GSM5319991_MCAO2_matrix.mtx.gz',\n",
       " 'GSM5319992_MCAO3_features.tsv.gz']"
      ]
     },
     "execution_count": 32,
     "metadata": {},
     "output_type": "execute_result"
    }
   ],
   "source": [
    "os.listdir(os.path.join('..', 'GSE174574_RAW'))"
   ]
  },
  {
   "cell_type": "code",
   "execution_count": 33,
   "id": "0a52c8bd-7fba-43e8-9018-fcf56b377589",
   "metadata": {},
   "outputs": [
    {
     "name": "stdout",
     "output_type": "stream",
     "text": [
      "Processed GSM5319991_MCAO2_features.tsv.gz\n",
      "Processed GSM5319990_MCAO1_features.tsv.gz\n",
      "Processed GSM5319989_sham3_features.tsv.gz\n",
      "Processed GSM5319992_MCAO3_features.tsv.gz\n"
     ]
    }
   ],
   "source": [
    "import pandas as pd\n",
    "import os\n",
    "\n",
    "# Directory containing the files\n",
    "directory = os.path.join('..', 'GSE174574_RAW')\n",
    "\n",
    "# List of files in the directory\n",
    "files = os.listdir(directory)   #The script accesses the GSE174574_RAW directory and lists all files in it.\n",
    "\n",
    "# Loop through the files and process them\n",
    "for file in files:\n",
    "    # Exclude sham1 and sham2 and only process features.tsv.gz files\n",
    "    if 'features.tsv.gz' in file and 'sham1' not in file and 'sham2' not in file: \n",
    "        features_file = os.path.join(directory, file)\n",
    "        # Load the features.tsv file\n",
    "        features = pd.read_csv(features_file, sep='\\t', header=None)\n",
    "\n",
    "        # If there are only two columns, add a placeholder third column\n",
    "        if features.shape[1] == 2:                      # If the file has only two columns, a third column labeled 'Gene Expression' is added.\n",
    "            features[2] = 'Gene Expression'\n",
    "            features.to_csv(features_file, sep='\\t', index=False, header=False)\n",
    "\n",
    "        print(f\"Processed {file}\")"
   ]
  },
  {
   "cell_type": "code",
   "execution_count": 36,
   "id": "726cb753-51b8-4684-a5dc-f8c44ec47624",
   "metadata": {},
   "outputs": [
    {
     "name": "stdout",
     "output_type": "stream",
     "text": [
      "../GSE174574_RAW/GSM5319987_sham1_features.tsv.gz\n",
      "../GSE174574_RAW/GSM5319988_sham2_features.tsv.gz\n",
      "../GSE174574_RAW/GSM5319989_sham3_features.tsv.gz\n",
      "../GSE174574_RAW/GSM5319990_MCAO1_features.tsv.gz\n",
      "../GSE174574_RAW/GSM5319991_MCAO2_features.tsv.gz\n",
      "../GSE174574_RAW/GSM5319992_MCAO3_features.tsv.gz\n"
     ]
    }
   ],
   "source": [
    "# View the total files to check all files are adjusted.\n",
    "\n",
    "! ls ../GSE174574_RAW/*_features.tsv.gz"
   ]
  },
  {
   "cell_type": "code",
   "execution_count": 37,
   "id": "ddaf7b05-09ee-4964-9bda-7443eb71afc6",
   "metadata": {},
   "outputs": [],
   "source": [
    "# generate an anndata object:"
   ]
  },
  {
   "cell_type": "code",
   "execution_count": 38,
   "id": "8e0cc2fd-2f05-4d35-834b-5ca503fd2fca",
   "metadata": {},
   "outputs": [],
   "source": [
    "import os\n",
    "import scanpy as sc\n",
    "\n",
    "# Directory containing the data\n",
    "data_dir = os.path.join('..', 'GSE174574_RAW')\n",
    "\n",
    "# List of files in the directory\n",
    "files = os.listdir(data_dir)\n",
    "\n",
    "# Filter for matrix.mtx.gz files\n",
    "matrix_files = [f for f in files if 'matrix.mtx.gz' in f]"
   ]
  },
  {
   "cell_type": "code",
   "execution_count": 39,
   "id": "8c8114f3-9395-46ed-b21a-dbc7b431dddf",
   "metadata": {},
   "outputs": [
    {
     "data": {
      "text/plain": [
       "['GSM5319988_sham2_matrix.mtx.gz',\n",
       " 'GSM5319989_sham3_matrix.mtx.gz',\n",
       " 'GSM5319990_MCAO1_matrix.mtx.gz',\n",
       " 'GSM5319992_MCAO3_matrix.mtx.gz',\n",
       " 'GSM5319987_sham1_matrix.mtx.gz',\n",
       " 'GSM5319991_MCAO2_matrix.mtx.gz']"
      ]
     },
     "execution_count": 39,
     "metadata": {},
     "output_type": "execute_result"
    }
   ],
   "source": [
    "matrix_files"
   ]
  },
  {
   "cell_type": "code",
   "execution_count": 40,
   "id": "eaa6f279-b286-4e7d-9c47-8da4ac7fd70a",
   "metadata": {},
   "outputs": [],
   "source": [
    "# Initialize a list to hold individual AnnData objects\n",
    "adatas = []\n",
    "\n",
    "# Process each sample\n",
    "for matrix_file in matrix_files:\n",
    "    # Get the sample prefix by stripping '_matrix.mtx.gz'\n",
    "    sample_prefix = matrix_file.replace('_matrix.mtx.gz', '_')\n",
    "    \n",
    "    # Build the path to the directory containing the sample\n",
    "    sample_dir = os.path.join(data_dir)\n",
    "    \n",
    "    # Read the data into an AnnData object\n",
    "    adata = sc.read_10x_mtx(\n",
    "        path=sample_dir, \n",
    "        var_names='gene_symbols', \n",
    "        prefix=sample_prefix\n",
    "    )\n",
    "    \n",
    "    # Add a column in the observation dataframe for sample identity\n",
    "    adata.obs['sample'] = sample_prefix\n",
    "    \n",
    "    # Append to the list\n",
    "    adatas.append(adata)"
   ]
  },
  {
   "cell_type": "code",
   "execution_count": 41,
   "id": "ded1bcc0-1388-4fbf-8cb3-5881d92db8fa",
   "metadata": {},
   "outputs": [
    {
     "data": {
      "text/plain": [
       "[AnnData object with n_obs × n_vars = 8540 × 27998\n",
       "     obs: 'sample'\n",
       "     var: 'gene_ids', 'feature_types',\n",
       " AnnData object with n_obs × n_vars = 9980 × 27998\n",
       "     obs: 'sample'\n",
       "     var: 'gene_ids', 'feature_types',\n",
       " AnnData object with n_obs × n_vars = 11772 × 27998\n",
       "     obs: 'sample'\n",
       "     var: 'gene_ids', 'feature_types',\n",
       " AnnData object with n_obs × n_vars = 8104 × 27998\n",
       "     obs: 'sample'\n",
       "     var: 'gene_ids', 'feature_types',\n",
       " AnnData object with n_obs × n_vars = 8771 × 27998\n",
       "     obs: 'sample'\n",
       "     var: 'gene_ids', 'feature_types',\n",
       " AnnData object with n_obs × n_vars = 11361 × 27998\n",
       "     obs: 'sample'\n",
       "     var: 'gene_ids', 'feature_types']"
      ]
     },
     "execution_count": 41,
     "metadata": {},
     "output_type": "execute_result"
    }
   ],
   "source": [
    "adatas"
   ]
  },
  {
   "cell_type": "code",
   "execution_count": 44,
   "id": "26b328ab-0440-4623-98c3-eee488706526",
   "metadata": {},
   "outputs": [
    {
     "name": "stderr",
     "output_type": "stream",
     "text": [
      "/var/tmp/ipykernel_3344333/3797977896.py:10: FutureWarning: Series.__getitem__ treating keys as positions is deprecated. In a future version, integer keys will always be treated as labels (consistent with DataFrame behavior). To access a value by position, use `ser.iloc[pos]`\n",
      "  combined_adata = adatas[0].concatenate(*adatas[1:], batch_key='sample', batch_categories=[a.obs['sample'][0] for a in adatas])\n",
      "/var/tmp/ipykernel_3344333/3797977896.py:10: FutureWarning: Use anndata.concat instead of AnnData.concatenate, AnnData.concatenate is deprecated and will be removed in the future. See the tutorial for concat at: https://anndata.readthedocs.io/en/latest/concatenation.html\n",
      "  combined_adata = adatas[0].concatenate(*adatas[1:], batch_key='sample', batch_categories=[a.obs['sample'][0] for a in adatas])\n"
     ]
    },
    {
     "name": "stdout",
     "output_type": "stream",
     "text": [
      "Combined AnnData object has been saved!\n"
     ]
    }
   ],
   "source": [
    "# Concatenate all AnnData objects into a single AnnData object:\n",
    "\n",
    "# Below code, the \"*\" operator unpacks a list or iterable into individual elements.\n",
    "\n",
    "# So, in adatas[0].concatenate(*adatas[1:], ...), it unpacks adatas[1:] so that \n",
    "# each AnnData object in the list is passed as a separate argument to the concatenate() method.\n",
    "# This is important because concatenate function of anndata object takes multiple anndata objects\n",
    "# to be added to the initial anndata object.\n",
    "\n",
    "combined_adata = adatas[0].concatenate(*adatas[1:], batch_key='sample', batch_categories=[a.obs['sample'][0] for a in adatas])\n",
    "\n",
    "# Save the combined AnnData object\n",
    "combined_adata.write(os.path.join('..', 'GSE174574_combined.h5ad'))\n",
    "\n",
    "print(\"Combined AnnData object has been saved!\")"
   ]
  },
  {
   "cell_type": "code",
   "execution_count": 45,
   "id": "b0ac0405-5e0b-49ed-b2c6-69948f567446",
   "metadata": {},
   "outputs": [
    {
     "data": {
      "text/plain": [
       "AnnData object with n_obs × n_vars = 58528 × 27998\n",
       "    obs: 'sample'\n",
       "    var: 'gene_ids', 'feature_types'"
      ]
     },
     "execution_count": 45,
     "metadata": {},
     "output_type": "execute_result"
    }
   ],
   "source": [
    "combined_adata"
   ]
  },
  {
   "cell_type": "code",
   "execution_count": 49,
   "id": "a4b159c7-8cee-4a0c-a599-949aa009d0e3",
   "metadata": {},
   "outputs": [
    {
     "data": {
      "text/plain": [
       "sample           \n",
       "GSM5319990_MCAO1_    11772\n",
       "GSM5319991_MCAO2_    11361\n",
       "GSM5319989_sham3_     9980\n",
       "GSM5319987_sham1_     8771\n",
       "GSM5319988_sham2_     8540\n",
       "GSM5319992_MCAO3_     8104\n",
       "Name: count, dtype: int64"
      ]
     },
     "execution_count": 49,
     "metadata": {},
     "output_type": "execute_result"
    }
   ],
   "source": [
    "combined_adata.obs.value_counts()"
   ]
  },
  {
   "cell_type": "code",
   "execution_count": 50,
   "id": "70e2b845-3eef-4034-a75b-68e2b1aaa76c",
   "metadata": {},
   "outputs": [],
   "source": [
    "import session_info"
   ]
  },
  {
   "cell_type": "code",
   "execution_count": 51,
   "id": "2b315897-713b-4cf3-8e1d-99dcf25dc5a3",
   "metadata": {},
   "outputs": [
    {
     "data": {
      "text/html": [
       "<details>\n",
       "<summary>Click to view session information</summary>\n",
       "<pre>\n",
       "-----\n",
       "anndata             0.10.9\n",
       "pandas              2.2.2\n",
       "scanpy              1.10.3\n",
       "session_info        1.0.0\n",
       "-----\n",
       "</pre>\n",
       "<details>\n",
       "<summary>Click to view modules imported as dependencies</summary>\n",
       "<pre>\n",
       "PIL                 10.4.0\n",
       "asttokens           NA\n",
       "colorama            0.4.6\n",
       "comm                0.2.2\n",
       "cycler              0.12.1\n",
       "cython_runtime      NA\n",
       "dateutil            2.9.0\n",
       "debugpy             1.8.5\n",
       "decorator           5.1.1\n",
       "exceptiongroup      1.2.2\n",
       "executing           2.1.0\n",
       "h5py                3.11.0\n",
       "igraph              0.11.6\n",
       "ipykernel           6.29.5\n",
       "jedi                0.19.1\n",
       "joblib              1.4.2\n",
       "kiwisolver          1.4.7\n",
       "legacy_api_wrap     NA\n",
       "leidenalg           0.10.2\n",
       "llvmlite            0.43.0\n",
       "matplotlib          3.9.2\n",
       "matplotlib_inline   0.1.7\n",
       "mpl_toolkits        NA\n",
       "natsort             8.4.0\n",
       "numba               0.60.0\n",
       "numpy               2.0.2\n",
       "packaging           24.1\n",
       "parso               0.8.4\n",
       "pexpect             4.9.0\n",
       "pickleshare         0.7.5\n",
       "platformdirs        4.3.6\n",
       "prompt_toolkit      3.0.47\n",
       "psutil              6.0.0\n",
       "ptyprocess          0.7.0\n",
       "pure_eval           0.2.3\n",
       "pydev_ipython       NA\n",
       "pydevconsole        NA\n",
       "pydevd              2.9.5\n",
       "pydevd_file_utils   NA\n",
       "pydevd_plugins      NA\n",
       "pydevd_tracing      NA\n",
       "pygments            2.18.0\n",
       "pyparsing           3.1.4\n",
       "pytz                2024.2\n",
       "scipy               1.14.1\n",
       "six                 1.16.0\n",
       "sklearn             1.5.2\n",
       "stack_data          0.6.2\n",
       "texttable           1.7.0\n",
       "threadpoolctl       3.5.0\n",
       "tornado             6.4.1\n",
       "traitlets           5.14.3\n",
       "typing_extensions   NA\n",
       "wcwidth             0.2.13\n",
       "zmq                 26.2.0\n",
       "zoneinfo            NA\n",
       "</pre>\n",
       "</details> <!-- seems like this ends pre, so might as well be explicit -->\n",
       "<pre>\n",
       "-----\n",
       "IPython             8.27.0\n",
       "jupyter_client      8.6.3\n",
       "jupyter_core        5.7.2\n",
       "-----\n",
       "Python 3.10.14 | packaged by conda-forge | (main, Mar 20 2024, 12:45:18) [GCC 12.3.0]\n",
       "Linux-5.14.0-427.13.1.el9_4.x86_64-x86_64-with-glibc2.34\n",
       "-----\n",
       "Session information updated at 2024-12-13 12:10\n",
       "</pre>\n",
       "</details>"
      ],
      "text/plain": [
       "<IPython.core.display.HTML object>"
      ]
     },
     "execution_count": 51,
     "metadata": {},
     "output_type": "execute_result"
    }
   ],
   "source": [
    "session_info.show()"
   ]
  },
  {
   "cell_type": "code",
   "execution_count": null,
   "id": "bdd35736-1acc-4ccf-b04d-0ee3a3d172e6",
   "metadata": {},
   "outputs": [],
   "source": []
  }
 ],
 "metadata": {
  "kernelspec": {
   "display_name": "Python (scanpy_loompy)",
   "language": "python",
   "name": "scanpy_loompy"
  },
  "language_info": {
   "codemirror_mode": {
    "name": "ipython",
    "version": 3
   },
   "file_extension": ".py",
   "mimetype": "text/x-python",
   "name": "python",
   "nbconvert_exporter": "python",
   "pygments_lexer": "ipython3",
   "version": "3.10.14"
  }
 },
 "nbformat": 4,
 "nbformat_minor": 5
}
