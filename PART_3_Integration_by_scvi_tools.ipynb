{
 "cells": [
  {
   "cell_type": "markdown",
   "id": "8699ef46-c011-43bf-b2c0-52a93b337401",
   "metadata": {},
   "source": [
    "Here, I will import the anndata object that I saved form the previous part.\\\n",
    "I will use the scvi-tools functions to integrate batches."
   ]
  },
  {
   "cell_type": "code",
   "execution_count": 1,
   "id": "522103db-a56a-40b4-bcde-d0990fec4ffc",
   "metadata": {},
   "outputs": [],
   "source": [
    "import os"
   ]
  },
  {
   "cell_type": "code",
   "execution_count": 2,
   "id": "0ccdd70e-2755-4870-90cc-eb3faf1d0b40",
   "metadata": {},
   "outputs": [],
   "source": [
    "import tempfile"
   ]
  },
  {
   "cell_type": "code",
   "execution_count": 3,
   "id": "a0001f64-4733-423c-8b7a-502e1f2e6798",
   "metadata": {},
   "outputs": [],
   "source": [
    "import anndata"
   ]
  },
  {
   "cell_type": "code",
   "execution_count": 4,
   "id": "71c9c491-b2a8-4811-8715-c0f3d2fc38e6",
   "metadata": {},
   "outputs": [],
   "source": [
    "import matplotlib.pyplot as plt"
   ]
  },
  {
   "cell_type": "code",
   "execution_count": 5,
   "id": "1ff8a494-83d1-44eb-836c-ab675648119a",
   "metadata": {},
   "outputs": [],
   "source": [
    "import numpy as np"
   ]
  },
  {
   "cell_type": "code",
   "execution_count": 6,
   "id": "2ee9af41-711f-4319-afbd-1309c687097a",
   "metadata": {},
   "outputs": [],
   "source": [
    "import pandas as pd"
   ]
  },
  {
   "cell_type": "code",
   "execution_count": 8,
   "id": "2889dd7e-1d8d-47e4-a9ed-cca6a725d62f",
   "metadata": {},
   "outputs": [],
   "source": [
    "# import scanpy as sc # not exist in this conda conda environment."
   ]
  },
  {
   "cell_type": "code",
   "execution_count": 9,
   "id": "1124fc44-0860-4618-b656-2f993e8149cd",
   "metadata": {},
   "outputs": [
    {
     "name": "stderr",
     "output_type": "stream",
     "text": [
      "/fast/home/y/ykazci/miniforge3/envs/scvi_env_clone/lib/python3.12/site-packages/anndata/utils.py:429: FutureWarning: Importing read_csv from `anndata` is deprecated. Import anndata.io.read_csv instead.\n",
      "  warnings.warn(msg, FutureWarning)\n",
      "/fast/home/y/ykazci/miniforge3/envs/scvi_env_clone/lib/python3.12/site-packages/anndata/utils.py:429: FutureWarning: Importing read_loom from `anndata` is deprecated. Import anndata.io.read_loom instead.\n",
      "  warnings.warn(msg, FutureWarning)\n",
      "/fast/home/y/ykazci/miniforge3/envs/scvi_env_clone/lib/python3.12/site-packages/anndata/utils.py:429: FutureWarning: Importing read_text from `anndata` is deprecated. Import anndata.io.read_text instead.\n",
      "  warnings.warn(msg, FutureWarning)\n",
      "/fast/home/y/ykazci/miniforge3/envs/scvi_env_clone/lib/python3.12/site-packages/anndata/utils.py:429: FutureWarning: Importing CSCDataset from `anndata.experimental` is deprecated. Import anndata.abc.CSCDataset instead.\n",
      "  warnings.warn(msg, FutureWarning)\n",
      "/fast/home/y/ykazci/miniforge3/envs/scvi_env_clone/lib/python3.12/site-packages/anndata/utils.py:429: FutureWarning: Importing CSRDataset from `anndata.experimental` is deprecated. Import anndata.abc.CSRDataset instead.\n",
      "  warnings.warn(msg, FutureWarning)\n",
      "/fast/home/y/ykazci/miniforge3/envs/scvi_env_clone/lib/python3.12/site-packages/anndata/utils.py:429: FutureWarning: Importing read_elem from `anndata.experimental` is deprecated. Import anndata.io.read_elem instead.\n",
      "  warnings.warn(msg, FutureWarning)\n",
      "/fast/home/y/ykazci/miniforge3/envs/scvi_env_clone/lib/python3.12/site-packages/tqdm/auto.py:21: TqdmWarning: IProgress not found. Please update jupyter and ipywidgets. See https://ipywidgets.readthedocs.io/en/stable/user_install.html\n",
      "  from .autonotebook import tqdm as notebook_tqdm\n",
      "/fast/home/y/ykazci/miniforge3/envs/scvi_env_clone/lib/python3.12/site-packages/docrep/decorators.py:43: SyntaxWarning: 'param_categorical_covariate_keys' is not a valid key!\n",
      "  doc = func(self, args[0].__doc__, *args[1:], **kwargs)\n"
     ]
    }
   ],
   "source": [
    "import scvi"
   ]
  },
  {
   "cell_type": "code",
   "execution_count": 11,
   "id": "522fb1de-a009-4d3f-9dbb-32449c225c10",
   "metadata": {},
   "outputs": [],
   "source": [
    "# import seaborn as sns # not exist in this conda environment."
   ]
  },
  {
   "cell_type": "code",
   "execution_count": 12,
   "id": "567b0219-e2bb-4366-a1c9-236223cf5ae7",
   "metadata": {},
   "outputs": [],
   "source": [
    "import torch"
   ]
  },
  {
   "cell_type": "code",
   "execution_count": 13,
   "id": "26370d76-ad0f-4eca-8a36-82a83fa4a765",
   "metadata": {},
   "outputs": [],
   "source": [
    "from scvi.model.utils import mde"
   ]
  },
  {
   "cell_type": "code",
   "execution_count": 14,
   "id": "ff615fef-19c9-4f1c-9857-14323440a29f",
   "metadata": {},
   "outputs": [
    {
     "name": "stderr",
     "output_type": "stream",
     "text": [
      "[rank: 0] Seed set to 0\n"
     ]
    },
    {
     "name": "stdout",
     "output_type": "stream",
     "text": [
      "Last run with scvi-tools version: 1.2.1\n"
     ]
    }
   ],
   "source": [
    "scvi.settings.seed = 0\n",
    "print(\"Last run with scvi-tools version:\", scvi.__version__)"
   ]
  },
  {
   "cell_type": "code",
   "execution_count": 15,
   "id": "7e6e50af-b7a3-4f5c-9392-d934af5fc1f2",
   "metadata": {},
   "outputs": [
    {
     "data": {
      "text/plain": [
       "'/fast/AG_Bunina/Yusuf/Project_Endothelial_and_Stroke/Datasets/GENE_EXPRESSION/MOUSE/STROKE/2022_Zheng_K_et_al/28_10_24'"
      ]
     },
     "execution_count": 15,
     "metadata": {},
     "output_type": "execute_result"
    }
   ],
   "source": [
    "os.getcwd()"
   ]
  },
  {
   "cell_type": "code",
   "execution_count": 16,
   "id": "5d3557ef-adbc-4deb-b0b8-82beb982091c",
   "metadata": {},
   "outputs": [],
   "source": [
    "torch.set_float32_matmul_precision(\"high\")\n",
    "save_dir = \"temp\"\n",
    "\n",
    "%config InlineBackend.print_figure_kwargs={\"facecolor\": \"w\"}\n",
    "%config InlineBackend.figure_format=\"retina\""
   ]
  },
  {
   "cell_type": "code",
   "execution_count": 17,
   "id": "6d6cbc66-9b58-4b03-8365-ca804c8fe5d3",
   "metadata": {},
   "outputs": [],
   "source": [
    "adata = anndata.read_h5ad(filename=os.path.join(\"Python_Objects\", \"adata_preprocessed.h5ad\"))  "
   ]
  },
  {
   "cell_type": "code",
   "execution_count": 18,
   "id": "aa74e145-53b3-416a-8353-e04360fa6635",
   "metadata": {},
   "outputs": [
    {
     "data": {
      "text/plain": [
       "AnnData object with n_obs × n_vars = 58528 × 19707\n",
       "    obs: 'sample', 'n_genes_by_counts', 'log1p_n_genes_by_counts', 'total_counts', 'log1p_total_counts', 'pct_counts_in_top_50_genes', 'pct_counts_in_top_100_genes', 'pct_counts_in_top_200_genes', 'pct_counts_in_top_500_genes', 'total_counts_mt', 'log1p_total_counts_mt', 'pct_counts_mt', 'total_counts_ribo', 'log1p_total_counts_ribo', 'pct_counts_ribo', 'total_counts_hb', 'log1p_total_counts_hb', 'pct_counts_hb', 'n_genes', 'doublet_score', 'predicted_doublet', 'status', 'leiden'\n",
       "    var: 'gene_ids', 'feature_types', 'mt', 'ribo', 'hb', 'n_cells_by_counts', 'mean_counts', 'log1p_mean_counts', 'pct_dropout_by_counts', 'total_counts', 'log1p_total_counts', 'n_cells', 'highly_variable', 'means', 'dispersions', 'dispersions_norm', 'highly_variable_nbatches', 'highly_variable_intersection'\n",
       "    uns: 'hvg', 'leiden', 'leiden_colors', 'log1p', 'neighbors', 'pca', 'predicted_doublet_colors', 'sample_colors', 'scrublet', 'status_colors', 'umap'\n",
       "    obsm: 'X_pca', 'X_umap'\n",
       "    varm: 'PCs'\n",
       "    layers: 'counts'\n",
       "    obsp: 'connectivities', 'distances'"
      ]
     },
     "execution_count": 18,
     "metadata": {},
     "output_type": "execute_result"
    }
   ],
   "source": [
    "adata"
   ]
  },
  {
   "cell_type": "code",
   "execution_count": 19,
   "id": "51163d22-074d-42a5-9401-b79e7265137d",
   "metadata": {},
   "outputs": [],
   "source": [
    "scvi.model.SCVI.setup_anndata(adata, layer=\"counts\", batch_key=\"sample\")"
   ]
  },
  {
   "cell_type": "code",
   "execution_count": 20,
   "id": "ff2ac814-37bc-4262-b251-21670b6d6704",
   "metadata": {},
   "outputs": [],
   "source": [
    "scvi_model = scvi.model.SCVI(adata, n_layers=2, n_latent=30)"
   ]
  },
  {
   "cell_type": "code",
   "execution_count": 21,
   "id": "f4eed387-3e73-42df-9f42-797a81f69dde",
   "metadata": {},
   "outputs": [],
   "source": [
    "# I added the following to enable parallel processing:"
   ]
  },
  {
   "cell_type": "code",
   "execution_count": 22,
   "id": "846acdbe-4b26-4970-b70b-afbec590bc05",
   "metadata": {},
   "outputs": [],
   "source": [
    "scvi.settings.dl_num_workers = 15"
   ]
  },
  {
   "cell_type": "code",
   "execution_count": 23,
   "id": "73d7e516-b83c-4634-994b-2e854b5126f9",
   "metadata": {},
   "outputs": [],
   "source": [
    "# I run the training command in a slurm job, with 64 num_workers.\n",
    "\n",
    "# The command: \n",
    "# scvi_model.train()\n",
    "\n",
    "# with 512G and 64 CPUs, its estimated amount of time to finish the training is 4 hours and 37 min."
   ]
  },
  {
   "cell_type": "code",
   "execution_count": 24,
   "id": "5c68bb0a-95ec-4463-910d-8c3c4c819420",
   "metadata": {},
   "outputs": [],
   "source": [
    "# After I obtain the embeddings learned by the scvi model, I will continue with the kernel that uses the conda enviroment with scanpy tools."
   ]
  },
  {
   "cell_type": "code",
   "execution_count": 25,
   "id": "d0270ac6-64f8-427d-9e22-df1a97c8bfff",
   "metadata": {},
   "outputs": [],
   "source": [
    "# Note, I had an error because \"pymde\" module is missing. I will install it to the relevant conda environment."
   ]
  },
  {
   "cell_type": "code",
   "execution_count": null,
   "id": "b708f900-98a0-4d51-8981-5cc18583bb4a",
   "metadata": {},
   "outputs": [
    {
     "name": "stderr",
     "output_type": "stream",
     "text": [
      "/fast/home/y/ykazci/miniforge3/envs/scvi_env_clone/lib/python3.12/site-packages/lightning/fabric/plugins/environments/slurm.py:204: The `srun` command is available on your system but is not used. HINT: If your intention is to run Lightning on SLURM, prepend your python command with `srun` like so: srun python /fast/home/y/ykazci/miniforge3/envs/scvi_env_clone/l ...\n",
      "GPU available: False, used: False\n",
      "TPU available: False, using: 0 TPU cores\n",
      "HPU available: False, using: 0 HPUs\n",
      "/fast/home/y/ykazci/miniforge3/envs/scvi_env_clone/lib/python3.12/site-packages/lightning/fabric/plugins/environments/slurm.py:204: The `srun` command is available on your system but is not used. HINT: If your intention is to run Lightning on SLURM, prepend your python command with `srun` like so: srun python /fast/home/y/ykazci/miniforge3/envs/scvi_env_clone/l ...\n"
     ]
    },
    {
     "name": "stdout",
     "output_type": "stream",
     "text": [
      "Epoch 1/1:   0%|          | 0/1 [00:00<?, ?it/s]"
     ]
    }
   ],
   "source": [
    "scvi_model.train(max_epochs= 1)"
   ]
  },
  {
   "cell_type": "code",
   "execution_count": 27,
   "id": "a62b0422-9775-4ac1-b65f-ebe99587b278",
   "metadata": {},
   "outputs": [],
   "source": [
    "import session_info"
   ]
  },
  {
   "cell_type": "code",
   "execution_count": 29,
   "id": "aa65e7fa-a777-4efe-acce-61109361bc2f",
   "metadata": {},
   "outputs": [
    {
     "data": {
      "text/html": [
       "<details>\n",
       "<summary>Click to view session information</summary>\n",
       "<pre>\n",
       "-----\n",
       "anndata             0.11.1\n",
       "matplotlib          3.9.3\n",
       "numpy               1.26.4\n",
       "pandas              2.2.3\n",
       "scvi                1.2.1\n",
       "session_info        1.0.0\n",
       "torch               2.5.1.post6\n",
       "-----\n",
       "</pre>\n",
       "<details>\n",
       "<summary>Click to view modules imported as dependencies</summary>\n",
       "<pre>\n",
       "PIL                 11.0.0\n",
       "absl                NA\n",
       "asttokens           NA\n",
       "chex                0.1.88\n",
       "colorama            0.4.6\n",
       "comm                0.2.2\n",
       "cycler              0.12.1\n",
       "cython_runtime      NA\n",
       "dateutil            2.9.0.post0\n",
       "debugpy             1.8.10\n",
       "decorator           5.1.1\n",
       "docrep              0.3.2\n",
       "etils               1.10.0\n",
       "executing           2.1.0\n",
       "filelock            3.16.1\n",
       "flax                0.10.2\n",
       "fsspec              2024.10.0\n",
       "gmpy2               2.1.5\n",
       "h5py                3.12.1\n",
       "ipykernel           6.29.5\n",
       "jax                 0.4.35\n",
       "jaxlib              0.4.35\n",
       "jedi                0.19.2\n",
       "joblib              1.4.2\n",
       "kiwisolver          1.4.7\n",
       "lightning           2.4.0\n",
       "lightning_utilities 0.11.9\n",
       "llvmlite            0.43.0\n",
       "ml_collections      1.0.0\n",
       "ml_dtypes           0.5.0\n",
       "mpl_toolkits        NA\n",
       "mpmath              1.3.0\n",
       "msgpack             1.1.0\n",
       "mudata              0.3.1\n",
       "multipledispatch    0.6.0\n",
       "natsort             8.4.0\n",
       "numba               0.60.0\n",
       "numpyro             0.16.1\n",
       "opt_einsum          3.4.0\n",
       "optax               0.2.3\n",
       "packaging           24.2\n",
       "parso               0.8.4\n",
       "pickleshare         0.7.5\n",
       "platformdirs        4.3.6\n",
       "prompt_toolkit      3.0.48\n",
       "psutil              6.1.0\n",
       "pure_eval           0.2.3\n",
       "pydev_ipython       NA\n",
       "pydevconsole        NA\n",
       "pydevd              3.2.3\n",
       "pydevd_file_utils   NA\n",
       "pydevd_plugins      NA\n",
       "pydevd_tracing      NA\n",
       "pygments            2.18.0\n",
       "pyparsing           3.2.0\n",
       "pyro                1.9.1+0a67ddc\n",
       "pytz                2024.1\n",
       "rich                NA\n",
       "scipy               1.14.1\n",
       "six                 1.17.0\n",
       "sklearn             1.6.0\n",
       "sparse              0.15.4\n",
       "stack_data          0.6.3\n",
       "sympy               1.13.3\n",
       "threadpoolctl       3.5.0\n",
       "toolz               1.0.0\n",
       "torchgen            NA\n",
       "torchmetrics        1.5.2\n",
       "tornado             6.4.2\n",
       "tqdm                4.67.1\n",
       "traitlets           5.14.3\n",
       "typing_extensions   NA\n",
       "wcwidth             0.2.13\n",
       "xarray              2024.11.0\n",
       "yaml                6.0.2\n",
       "zmq                 26.2.0\n",
       "zstandard           0.23.0\n",
       "</pre>\n",
       "</details> <!-- seems like this ends pre, so might as well be explicit -->\n",
       "<pre>\n",
       "-----\n",
       "IPython             8.30.0\n",
       "jupyter_client      8.6.3\n",
       "jupyter_core        5.7.2\n",
       "-----\n",
       "Python 3.12.8 | packaged by conda-forge | (main, Dec  5 2024, 14:24:40) [GCC 13.3.0]\n",
       "Linux-5.14.0-427.13.1.el9_4.x86_64-x86_64-with-glibc2.34\n",
       "-----\n",
       "Session information updated at 2024-12-18 15:38\n",
       "</pre>\n",
       "</details>"
      ],
      "text/plain": [
       "<IPython.core.display.HTML object>"
      ]
     },
     "execution_count": 29,
     "metadata": {},
     "output_type": "execute_result"
    }
   ],
   "source": [
    "session_info.show()"
   ]
  },
  {
   "cell_type": "code",
   "execution_count": null,
   "id": "a57eb6da-0438-475b-922a-b82ea120e22c",
   "metadata": {},
   "outputs": [],
   "source": []
  }
 ],
 "metadata": {
  "kernelspec": {
   "display_name": "scvi_env_clone",
   "language": "python",
   "name": "scvi_env_clone"
  },
  "language_info": {
   "codemirror_mode": {
    "name": "ipython",
    "version": 3
   },
   "file_extension": ".py",
   "mimetype": "text/x-python",
   "name": "python",
   "nbconvert_exporter": "python",
   "pygments_lexer": "ipython3",
   "version": "3.12.8"
  }
 },
 "nbformat": 4,
 "nbformat_minor": 5
}
